{
 "cells": [
  {
   "cell_type": "code",
   "execution_count": 1,
   "metadata": {},
   "outputs": [],
   "source": [
    "using Random\n",
    "using PyPlot"
   ]
  },
  {
   "cell_type": "markdown",
   "metadata": {},
   "source": [
    "# Basics of random number generation"
   ]
  },
  {
   "cell_type": "code",
   "execution_count": 2,
   "metadata": {},
   "outputs": [
    {
     "data": {
      "text/plain": [
       "normal_sample (generic function with 1 method)"
      ]
     },
     "execution_count": 2,
     "metadata": {},
     "output_type": "execute_result"
    }
   ],
   "source": [
    "uniform_sample_in_zero_maxval(n_features, maxval) = maxval .* (1 .- rand(n_features)) \n",
    "\n",
    "uniform_sample_in_minval_maxval(n_features, minval, maxval) = (maxval-minval) .* rand(n_features) .+ minval \n",
    "\n",
    "# x=rand() is a sample from N(0,1) =>  x2 = mu + sqrt(std)*rand() is a sample from  N(mu, std)\n",
    "normal_sample(n_features, mu, var) = mu .+ sqrt(var) .* randn(n_features)"
   ]
  },
  {
   "cell_type": "code",
   "execution_count": 3,
   "metadata": {
    "scrolled": true
   },
   "outputs": [
    {
     "data": {
      "text/plain": [
       "2-element Array{Float64,1}:\n",
       " 5.670347507137972\n",
       " 1.7219364569365347"
      ]
     },
     "execution_count": 3,
     "metadata": {},
     "output_type": "execute_result"
    }
   ],
   "source": [
    "maxval = 10\n",
    "n_features = 2\n",
    "uniform_sample_in_zero_maxval(n_features, maxval)"
   ]
  },
  {
   "cell_type": "code",
   "execution_count": 4,
   "metadata": {},
   "outputs": [
    {
     "data": {
      "text/plain": [
       "2-element Array{Float64,1}:\n",
       " 2.031016276396562\n",
       " 0.1625985894201991"
      ]
     },
     "execution_count": 4,
     "metadata": {},
     "output_type": "execute_result"
    }
   ],
   "source": [
    "maxval = 3\n",
    "uniform_sample_in_zero_maxval(n_features, maxval)"
   ]
  },
  {
   "cell_type": "code",
   "execution_count": 5,
   "metadata": {},
   "outputs": [
    {
     "data": {
      "text/plain": [
       "2-element Array{Float64,1}:\n",
       " 9.729605103766149\n",
       " 8.569217909565769"
      ]
     },
     "execution_count": 5,
     "metadata": {},
     "output_type": "execute_result"
    }
   ],
   "source": [
    "minval = 2\n",
    "maxval = 10\n",
    "\n",
    "uniform_sample_in_minval_maxval(n_features ,minval, maxval)"
   ]
  },
  {
   "cell_type": "markdown",
   "metadata": {},
   "source": [
    "# Blob generator"
   ]
  },
  {
   "cell_type": "code",
   "execution_count": 6,
   "metadata": {},
   "outputs": [],
   "source": [
    "using BenchmarkTools"
   ]
  },
  {
   "cell_type": "code",
   "execution_count": 7,
   "metadata": {},
   "outputs": [
    {
     "data": {
      "text/plain": [
       "make_blobs"
      ]
     },
     "execution_count": 7,
     "metadata": {},
     "output_type": "execute_result"
    }
   ],
   "source": [
    "# make blobs\n",
    "\n",
    "\"\"\"\n",
    "    make_blobs(n_examples=100; \n",
    "               n_features=2, \n",
    "               centers=3, \n",
    "               cluster_std=1.0, \n",
    "               center_box=(-10.,10.),\n",
    "               element_type=Float64,\n",
    "               random_seed=1234,\n",
    "               return_centers=false)\n",
    "               \n",
    "     Generates a dataset with `n_examples` of dimension `n_features` and returns a vector containing\n",
    "     as integers the membership of the different points generated.\n",
    "\n",
    "     The data is roughly grouped around several `centers`  which are created using `cluster_std`. \n",
    "     The data lives inside `center_box` in the case it is randomly generated.\n",
    "     \n",
    "     - If `centers` is an integer the centroids are created randomly.    \n",
    "     - If `centers` is an Array containing points the centroids are picked from `centers`.\n",
    "     - If `return_centers=true` the centroids of the bloods are returned\n",
    "\n",
    "\"\"\"\n",
    "function make_blobs(n_examples=100; n_features=2, \n",
    "                    centers=3, cluster_std=1.0, center_box=(-10.,10.),\n",
    "                    element_type=Float64, random_seed=1234, return_centers=false)\n",
    "\n",
    "    Random.seed!(random_seed)\n",
    "\n",
    "    X = [] \n",
    "    y = []\n",
    "\n",
    "    if typeof(centers)<: Int\n",
    "        n_centers = centers\n",
    "        centers = []\n",
    "        for c in 1:n_centers\n",
    "            center_sample = uniform_sample_in_minval_maxval(n_features, center_box[1], center_box[2])\n",
    "            push!(centers, center_sample)\n",
    "        end\n",
    "    else\n",
    "        n_centers = length(centers)\n",
    "    end\n",
    "\n",
    "    if typeof(cluster_std)<: AbstractFloat\n",
    "        cluster_std = 0.5 * randn(n_centers)\n",
    "    end\n",
    "    \n",
    "    # generates the nunber of example for each center\n",
    "    n_examples_per_center = [div(n_examples, n_centers) for x  in 1:n_centers]\n",
    "    for i in 1:(n_examples % n_centers)\n",
    "        n_examples_per_center[i] += 1\n",
    "    end\n",
    "\n",
    "    # generates the actual vectors close to each center blob \n",
    "    for (i, (n, std, center)) in enumerate(zip(n_examples_per_center, cluster_std, centers))\n",
    "        X_current = center' .+ std .* randn(element_type, (n, n_features))\n",
    "        push!(X, X_current)\n",
    "        push!(y, [i for k in 1:n]) \n",
    "    end\n",
    "\n",
    "    # stack all the previous arrays created for each of the centers\n",
    "    X = cat(X..., dims=1)\n",
    "    y = cat(y..., dims=1)\n",
    "    \n",
    "    if return_centers\n",
    "        return X, y, centers  \n",
    "    else\n",
    "        return X, y\n",
    "    end\n",
    "end"
   ]
  },
  {
   "cell_type": "code",
   "execution_count": 8,
   "metadata": {},
   "outputs": [
    {
     "name": "stdout",
     "output_type": "stream",
     "text": [
      "  30.624 μs (219 allocations: 15.16 KiB)\n"
     ]
    },
    {
     "data": {
      "text/plain": [
       "([6.332915719469112 3.166051622301798; 6.288894614085511 3.12579462724647; … ; 0.7502503697316767 -4.9980666740292214; -0.4812645016839405 -4.6913739326626915], [1, 1, 1, 1, 1, 1, 1, 1, 1, 1  …  3, 3, 3, 3, 3, 3, 3, 3, 3, 3], Any[[6.248771644015054, 3.099549292674503], [-0.20773239304314295, -8.424809288622503], [1.6318126225038334, -4.83893336846454]])"
      ]
     },
     "execution_count": 8,
     "metadata": {},
     "output_type": "execute_result"
    }
   ],
   "source": [
    "@btime X, y, c = make_blobs(100; centers=3, random_seed=7, return_centers=true)\n"
   ]
  },
  {
   "cell_type": "code",
   "execution_count": 9,
   "metadata": {
    "scrolled": true
   },
   "outputs": [
    {
     "data": {
      "text/plain": [
       "3-element Array{Any,1}:\n",
       " [3.6015847187148218, 7.488737862242317]\n",
       " [8.481401738563203, 8.586724376873917]\n",
       " [2.504782386597073, 4.745073928645937]"
      ]
     },
     "execution_count": 9,
     "metadata": {},
     "output_type": "execute_result"
    }
   ],
   "source": [
    " X, y, c = make_blobs(100; centers=3, random_seed=4, return_centers=true)\n",
    "c"
   ]
  },
  {
   "cell_type": "code",
   "execution_count": 10,
   "metadata": {},
   "outputs": [
    {
     "data": {
      "image/png": "[encoded data removed]",
      "text/plain": [
       "Figure(PyObject <Figure size 500x500 with 1 Axes>)"
      ]
     },
     "metadata": {},
     "output_type": "display_data"
    },
    {
     "data": {
      "text/plain": [
       "PyObject <matplotlib.legend.Legend object at 0x7ffb6f038d60>"
      ]
     },
     "execution_count": 10,
     "metadata": {},
     "output_type": "execute_result"
    }
   ],
   "source": [
    "X1 = X[y.==1,:]\n",
    "X2 = X[y.==2,:]\n",
    "X3 = X[y.==3,:]\n",
    "\n",
    "fig = figure(figsize=(5,5))\n",
    "title(\"Plotting Blobs\")\n",
    "R = scatter(X1[:,1], X1[:,2], color=\"red\",   label = \"center 1\", s = 30)\n",
    "G = scatter(X2[:,1], X2[:,2], color=\"blue\",  label = \"center 2\", s = 30)\n",
    "B = scatter(X3[:,1], X3[:,2], color=\"green\", label = \"center 3\", s = 30)\n",
    "legend(loc=\"right\")\n",
    "#savefig(\"blobs.pdf\")  "
   ]
  },
  {
   "cell_type": "code",
   "execution_count": 11,
   "metadata": {},
   "outputs": [
    {
     "name": "stderr",
     "output_type": "stream",
     "text": [
      "┌ Info: Precompiling MulticlassPerceptron [dab37cba-9818-490d-9918-279965c31300]\n",
      "└ @ Base loading.jl:1278\n",
      "WARNING: using MulticlassPerceptron.make_blobs in module Main conflicts with an existing identifier.\n"
     ]
    }
   ],
   "source": [
    "using MulticlassPerceptron"
   ]
  },
  {
   "cell_type": "code",
   "execution_count": 12,
   "metadata": {},
   "outputs": [
    {
     "data": {
      "text/plain": [
       "2"
      ]
     },
     "execution_count": 12,
     "metadata": {},
     "output_type": "execute_result"
    }
   ],
   "source": [
    "n_classes = length(unique(y))\n",
    "n_features"
   ]
  },
  {
   "cell_type": "code",
   "execution_count": 13,
   "metadata": {},
   "outputs": [
    {
     "data": {
      "text/plain": [
       "MulticlassPerceptronCore{Float64}([0.19660403210771027 0.7377987210607275 0.5913192689898523; 0.5811602381663992 0.015886148055016536 0.638479473058718], [0.0, 0.0, 0.0], 3, 2, false)"
      ]
     },
     "execution_count": 13,
     "metadata": {},
     "output_type": "execute_result"
    }
   ],
   "source": [
    "model = MulticlassPerceptronCore(Float64, n_classes, n_features, false)"
   ]
  },
  {
   "cell_type": "code",
   "execution_count": 14,
   "metadata": {},
   "outputs": [
    {
     "name": "stdout",
     "output_type": "stream",
     "text": [
      "\r",
      "\u001b[KEpoch: 1 \t Accuracy: 0.96\r",
      "\u001b[KEpoch: 2 \t Accuracy: 0.96\r",
      "\u001b[KEpoch: 3 \t Accuracy: 0.97\r",
      "\u001b[KEpoch: 4 \t Accuracy: 0.96\r",
      "\u001b[KEpoch: 5 \t Accuracy: 0.95\r",
      "\u001b[KEpoch: 6 \t Accuracy: 0.96\r",
      "\u001b[KEpoch: 7 \t Accuracy: 0.98\r",
      "\u001b[KEpoch: 8 \t Accuracy: 0.96\r",
      "\u001b[KEpoch: 9 \t Accuracy: 0.98\r",
      "\u001b[KEpoch: 10 \t Accuracy: 0.96\r",
      "\u001b[KEpoch: 11 \t Accuracy: 0.97\r",
      "\u001b[KEpoch: 12 \t Accuracy: 0.98\r",
      "\u001b[KEpoch: 13 \t Accuracy: 0.96\r",
      "\u001b[KEpoch: 14 \t Accuracy: 0.98\r",
      "\u001b[KEpoch: 15 \t Accuracy: 0.96\r",
      "\u001b[KEpoch: 16 \t Accuracy: 0.97\r",
      "\u001b[KEpoch: 17 \t Accuracy: 0.98\r",
      "\u001b[KEpoch: 18 \t Accuracy: 0.96\r",
      "\u001b[KEpoch: 19 \t Accuracy: 0.97\r",
      "\u001b[KEpoch: 20 \t Accuracy: 0.98\r",
      "\u001b[KEpoch: 21 \t Accuracy: 0.97\r",
      "\u001b[KEpoch: 22 \t Accuracy: 0.98\r",
      "\u001b[KEpoch: 23 \t Accuracy: 0.97\r",
      "\u001b[KEpoch: 24 \t Accuracy: 0.98\r",
      "\u001b[KEpoch: 25 \t Accuracy: 0.96\r",
      "\u001b[KEpoch: 26 \t Accuracy: 0.98\r",
      "\u001b[KEpoch: 27 \t Accuracy: 0.96\r",
      "\u001b[KEpoch: 28 \t Accuracy: 0.97\r",
      "\u001b[KEpoch: 29 \t Accuracy: 0.98\r",
      "\u001b[KEpoch: 30 \t Accuracy: 0.96\r",
      "\u001b[KEpoch: 31 \t Accuracy: 0.97\r",
      "\u001b[KEpoch: 32 \t Accuracy: 0.98\r",
      "\u001b[KEpoch: 33 \t Accuracy: 0.96\r",
      "\u001b[KEpoch: 34 \t Accuracy: 0.97\r",
      "\u001b[KEpoch: 35 \t Accuracy: 0.95\r",
      "\u001b[KEpoch: 36 \t Accuracy: 0.97\r",
      "\u001b[KEpoch: 37 \t Accuracy: 0.97\r",
      "\u001b[KEpoch: 38 \t Accuracy: 0.98\r",
      "\u001b[KEpoch: 39 \t Accuracy: 0.97\r",
      "\u001b[KEpoch: 40 \t Accuracy: 0.98\r",
      "\u001b[KEpoch: 41 \t Accuracy: 0.97\r",
      "\u001b[KEpoch: 42 \t Accuracy: 0.98\r",
      "\u001b[KEpoch: 43 \t Accuracy: 0.97\r",
      "\u001b[KEpoch: 44 \t Accuracy: 0.98\r",
      "\u001b[KEpoch: 45 \t Accuracy: 0.95\r",
      "\u001b[KEpoch: 46 \t Accuracy: 0.98\r",
      "\u001b[KEpoch: 47 \t Accuracy: 0.98\r",
      "\u001b[KEpoch: 48 \t Accuracy: 0.97\r",
      "\u001b[KEpoch: 49 \t Accuracy: 0.98\r",
      "\u001b[KEpoch: 50 \t Accuracy: 0.98\r",
      "\u001b[KEpoch: 51 \t Accuracy: 0.95\r",
      "\u001b[KEpoch: 52 \t Accuracy: 0.95\r",
      "\u001b[KEpoch: 53 \t Accuracy: 0.97\r",
      "\u001b[KEpoch: 54 \t Accuracy: 0.97\r",
      "\u001b[KEpoch: 55 \t Accuracy: 0.97\r",
      "\u001b[KEpoch: 56 \t Accuracy: 0.96\r",
      "\u001b[KEpoch: 57 \t Accuracy: 0.98\r",
      "\u001b[KEpoch: 58 \t Accuracy: 0.98\r",
      "\u001b[KEpoch: 59 \t Accuracy: 0.97\r",
      "\u001b[KEpoch: 60 \t Accuracy: 0.98\r",
      "\u001b[KEpoch: 61 \t Accuracy: 0.98\r",
      "\u001b[KEpoch: 62 \t Accuracy: 0.97\r",
      "\u001b[KEpoch: 63 \t Accuracy: 0.97\r",
      "\u001b[KEpoch: 64 \t Accuracy: 0.98\r",
      "\u001b[KEpoch: 65 \t Accuracy: 0.98\r",
      "\u001b[KEpoch: 66 \t Accuracy: 0.97\r",
      "\u001b[KEpoch: 67 \t Accuracy: 0.98\r",
      "\u001b[KEpoch: 68 \t Accuracy: 0.95\r",
      "\u001b[KEpoch: 69 \t Accuracy: 0.98\r",
      "\u001b[KEpoch: 70 \t Accuracy: 0.97\r",
      "\u001b[KEpoch: 71 \t Accuracy: 0.97\r",
      "\u001b[KEpoch: 72 \t Accuracy: 0.98\r",
      "\u001b[KEpoch: 73 \t Accuracy: 0.97\r",
      "\u001b[KEpoch: 74 \t Accuracy: 0.97\r",
      "\u001b[KEpoch: 75 \t Accuracy: 0.98\r",
      "\u001b[KEpoch: 76 \t Accuracy: 0.98\r",
      "\u001b[KEpoch: 77 \t Accuracy: 0.96\r",
      "\u001b[KEpoch: 78 \t Accuracy: 0.98\r",
      "\u001b[KEpoch: 79 \t Accuracy: 0.97\r",
      "\u001b[KEpoch: 80 \t Accuracy: 0.98\r",
      "\u001b[KEpoch: 81 \t Accuracy: 0.97\r",
      "\u001b[KEpoch: 82 \t Accuracy: 0.97\r",
      "\u001b[KEpoch: 83 \t Accuracy: 0.98\r",
      "\u001b[KEpoch: 84 \t Accuracy: 0.98\r",
      "\u001b[KEpoch: 85 \t Accuracy: 0.96\r",
      "\u001b[KEpoch: 86 \t Accuracy: 0.98\r",
      "\u001b[KEpoch: 87 \t Accuracy: 0.97\r",
      "\u001b[KEpoch: 88 \t Accuracy: 0.97\r",
      "\u001b[KEpoch: 89 \t Accuracy: 0.98\r",
      "\u001b[KEpoch: 90 \t Accuracy: 0.98\r",
      "\u001b[KEpoch: 91 \t Accuracy: 0.96\r",
      "\u001b[KEpoch: 92 \t Accuracy: 0.98\r",
      "\u001b[KEpoch: 93 \t Accuracy: 0.97\r",
      "\u001b[KEpoch: 94 \t Accuracy: 0.98\r",
      "\u001b[KEpoch: 95 \t Accuracy: 1.0\r",
      "\u001b[KEpoch: 96 \t Accuracy: 1.0\r",
      "\u001b[KEpoch: 97 \t Accuracy: 1.0\r",
      "\u001b[KEpoch: 98 \t Accuracy: 1.0\r",
      "\u001b[KEpoch: 99 \t Accuracy: 1.0\r",
      "\u001b[KEpoch: 100 \t Accuracy: 1.0\r",
      "\u001b[KEpoch: 101 \t Accuracy: 1.0\r",
      "\u001b[KEpoch: 102 \t Accuracy: 1.0\r",
      "\u001b[KEpoch: 103 \t Accuracy: 1.0\r",
      "\u001b[KEpoch: 104 \t Accuracy: 1.0\r",
      "\u001b[KEpoch: 105 \t Accuracy: 1.0\r",
      "\u001b[KEpoch: 106 \t Accuracy: 1.0\r",
      "\u001b[KEpoch: 107 \t Accuracy: 1.0\r",
      "\u001b[KEpoch: 108 \t Accuracy: 1.0\r",
      "\u001b[KEpoch: 109 \t Accuracy: 1.0\r",
      "\u001b[KEpoch: 110 \t Accuracy: 1.0\r",
      "\u001b[KEpoch: 111 \t Accuracy: 1.0\r",
      "\u001b[KEpoch: 112 \t Accuracy: 1.0\r",
      "\u001b[KEpoch: 113 \t Accuracy: 1.0\r",
      "\u001b[KEpoch: 114 \t Accuracy: 1.0\r",
      "\u001b[KEpoch: 115 \t Accuracy: 1.0\r",
      "\u001b[KEpoch: 116 \t Accuracy: 1.0\r",
      "\u001b[KEpoch: 117 \t Accuracy: 1.0\r",
      "\u001b[KEpoch: 118 \t Accuracy: 1.0\r",
      "\u001b[KEpoch: 119 \t Accuracy: 1.0\r",
      "\u001b[KEpoch: 120 \t Accuracy: 1.0\r",
      "\u001b[KEpoch: 121 \t Accuracy: 1.0\r",
      "\u001b[KEpoch: 122 \t Accuracy: 1.0\r",
      "\u001b[KEpoch: 123 \t Accuracy: 1.0\r",
      "\u001b[KEpoch: 124 \t Accuracy: 1.0\r",
      "\u001b[KEpoch: 125 \t Accuracy: 1.0\r",
      "\u001b[KEpoch: 126 \t Accuracy: 1.0\r",
      "\u001b[KEpoch: 127 \t Accuracy: 1.0\r",
      "\u001b[KEpoch: 128 \t Accuracy: 1.0\r",
      "\u001b[KEpoch: 129 \t Accuracy: 1.0\r",
      "\u001b[KEpoch: 130 \t Accuracy: 1.0\r",
      "\u001b[KEpoch: 131 \t Accuracy: 1.0\r",
      "\u001b[KEpoch: 132 \t Accuracy: 1.0\r",
      "\u001b[KEpoch: 133 \t Accuracy: 1.0\r",
      "\u001b[KEpoch: 134 \t Accuracy: 1.0\r",
      "\u001b[KEpoch: 135 \t Accuracy: 1.0\r",
      "\u001b[KEpoch: 136 \t Accuracy: 1.0\r",
      "\u001b[KEpoch: 137 \t Accuracy: 1.0\r",
      "\u001b[KEpoch: 138 \t Accuracy: 1.0\r",
      "\u001b[KEpoch: 139 \t Accuracy: 1.0\r",
      "\u001b[KEpoch: 140 \t Accuracy: 1.0\r",
      "\u001b[KEpoch: 141 \t Accuracy: 1.0\r",
      "\u001b[KEpoch: 142 \t Accuracy: 1.0\r",
      "\u001b[KEpoch: 143 \t Accuracy: 1.0\r",
      "\u001b[KEpoch: 144 \t Accuracy: 1.0\r",
      "\u001b[KEpoch: 145 \t Accuracy: 1.0\r",
      "\u001b[KEpoch: 146 \t Accuracy: 1.0\r",
      "\u001b[KEpoch: 147 \t Accuracy: 1.0\r",
      "\u001b[KEpoch: 148 \t Accuracy: 1.0\r",
      "\u001b[KEpoch: 149 \t Accuracy: 1.0\r",
      "\u001b[KEpoch: 150 \t Accuracy: 1.0\r",
      "\u001b[KEpoch: 151 \t Accuracy: 1.0\r",
      "\u001b[KEpoch: 152 \t Accuracy: 1.0\r",
      "\u001b[KEpoch: 153 \t Accuracy: 1.0\r",
      "\u001b[KEpoch: 154 \t Accuracy: 1.0\r",
      "\u001b[KEpoch: 155 \t Accuracy: 1.0\r",
      "\u001b[KEpoch: 156 \t Accuracy: 1.0\r",
      "\u001b[KEpoch: 157 \t Accuracy: 1.0\r",
      "\u001b[KEpoch: 158 \t Accuracy: 1.0\r",
      "\u001b[KEpoch: 159 \t Accuracy: 1.0\r",
      "\u001b[KEpoch: 160 \t Accuracy: 1.0\r",
      "\u001b[KEpoch: 161 \t Accuracy: 1.0\r",
      "\u001b[KEpoch: 162 \t Accuracy: 1.0\r",
      "\u001b[KEpoch: 163 \t Accuracy: 1.0\r",
      "\u001b[KEpoch: 164 \t Accuracy: 1.0\r",
      "\u001b[KEpoch: 165 \t Accuracy: 1.0\r",
      "\u001b[KEpoch: 166 \t Accuracy: 1.0\r",
      "\u001b[KEpoch: 167 \t Accuracy: 1.0\r",
      "\u001b[KEpoch: 168 \t Accuracy: 1.0\r",
      "\u001b[KEpoch: 169 \t Accuracy: 1.0\r",
      "\u001b[KEpoch: 170 \t Accuracy: 1.0\r",
      "\u001b[KEpoch: 171 \t Accuracy: 1.0\r",
      "\u001b[KEpoch: 172 \t Accuracy: 1.0\r",
      "\u001b[KEpoch: 173 \t Accuracy: 1.0\r",
      "\u001b[KEpoch: 174 \t Accuracy: 1.0\r",
      "\u001b[KEpoch: 175 \t Accuracy: 1.0\r",
      "\u001b[KEpoch: 176 \t Accuracy: 1.0\r",
      "\u001b[KEpoch: 177 \t Accuracy: 1.0\r",
      "\u001b[KEpoch: 178 \t Accuracy: 1.0\r",
      "\u001b[KEpoch: 179 \t Accuracy: 1.0\r",
      "\u001b[KEpoch: 180 \t Accuracy: 1.0\r",
      "\u001b[KEpoch: 181 \t Accuracy: 1.0\r",
      "\u001b[KEpoch: 182 \t Accuracy: 1.0\r",
      "\u001b[KEpoch: 183 \t Accuracy: 1.0\r",
      "\u001b[KEpoch: 184 \t Accuracy: 1.0\r",
      "\u001b[KEpoch: 185 \t Accuracy: 1.0\r",
      "\u001b[KEpoch: 186 \t Accuracy: 1.0\r",
      "\u001b[KEpoch: 187 \t Accuracy: 1.0\r",
      "\u001b[KEpoch: 188 \t Accuracy: 1.0\r",
      "\u001b[KEpoch: 189 \t Accuracy: 1.0\r",
      "\u001b[KEpoch: 190 \t Accuracy: 1.0\r",
      "\u001b[KEpoch: 191 \t Accuracy: 1.0\r",
      "\u001b[KEpoch: 192 \t Accuracy: 1.0\r",
      "\u001b[KEpoch: 193 \t Accuracy: 1.0\r",
      "\u001b[KEpoch: 194 \t Accuracy: 1.0\r",
      "\u001b[KEpoch: 195 \t Accuracy: 1.0\r",
      "\u001b[KEpoch: 196 \t Accuracy: 1.0\r",
      "\u001b[KEpoch: 197 \t Accuracy: 1.0\r",
      "\u001b[KEpoch: 198 \t Accuracy: 1.0\r",
      "\u001b[KEpoch: 199 \t Accuracy: 1.0\r",
      "\u001b[KEpoch: 200 \t Accuracy: 1.0"
     ]
    }
   ],
   "source": [
    "fit!(model, X', y; n_epochs=200, verbosity=1)"
   ]
  },
  {
   "cell_type": "code",
   "execution_count": 15,
   "metadata": {},
   "outputs": [
    {
     "data": {
      "text/plain": [
       "2×3 Array{Float64,2}:\n",
       " -26.7887   45.8075  -17.493\n",
       "  23.7671  -29.9918    7.46015"
      ]
     },
     "execution_count": 15,
     "metadata": {},
     "output_type": "execute_result"
    }
   ],
   "source": [
    "model.W"
   ]
  },
  {
   "cell_type": "code",
   "execution_count": 16,
   "metadata": {},
   "outputs": [
    {
     "data": {
      "text/plain": [
       "3-element Array{Float64,1}:\n",
       " -29.0\n",
       " -25.0\n",
       "  54.0"
      ]
     },
     "execution_count": 16,
     "metadata": {},
     "output_type": "execute_result"
    }
   ],
   "source": [
    "model.b"
   ]
  },
  {
   "cell_type": "markdown",
   "metadata": {},
   "source": [
    "## Plotting the learned prototypes"
   ]
  },
  {
   "cell_type": "code",
   "execution_count": 17,
   "metadata": {},
   "outputs": [
    {
     "data": {
      "text/plain": [
       "54.0"
      ]
     },
     "execution_count": 17,
     "metadata": {},
     "output_type": "execute_result"
    }
   ],
   "source": [
    "W1 = model.W[:,1]\n",
    "W2 = model.W[:,2]\n",
    "W3 = model.W[:,3]\n",
    "\n",
    "b1 = model.b[1]\n",
    "b2 = model.b[2]\n",
    "b3 = model.b[3]"
   ]
  },
  {
   "cell_type": "code",
   "execution_count": 18,
   "metadata": {},
   "outputs": [
    {
     "data": {
      "text/plain": [
       "f2 (generic function with 2 methods)"
      ]
     },
     "execution_count": 18,
     "metadata": {},
     "output_type": "execute_result"
    }
   ],
   "source": [
    "# y = a*x + b*y * c\n",
    "f(x,W,b) =  W[1]*x[1] + W[2]*x[2]  + b\n",
    "\n",
    "# y = mx * n\n",
    "f2(x::Number,W,b) =  (W[2]/W[1])*x  + b\n",
    "\n",
    "function f2(x::Array,W,b)\n",
    "    n_x = length(x)\n",
    "    result = zeros(n_x)\n",
    "    \n",
    "    for k in 1:n_x\n",
    "        result[k] = (W[2]/W[1])*x[k]  + b/W[2]\n",
    "    end\n",
    "    return result\n",
    "end"
   ]
  },
  {
   "cell_type": "code",
   "execution_count": 19,
   "metadata": {},
   "outputs": [],
   "source": [
    "xvalues = Array(range(-10,10,length=100));\n",
    "square = Base.Iterators.product(xvalues, xvalues) |> collect\n",
    "Xgrid = [[x[1] for x in square[:]] [x[2] for x in square[:]] ];\n",
    "Ygrid = predict(model, Xgrid');\n",
    "#Ygrid = reshape(predict(model, Xgrid'),(100,100));"
   ]
  },
  {
   "cell_type": "code",
   "execution_count": 20,
   "metadata": {
    "scrolled": false
   },
   "outputs": [
    {
     "data": {
      "image/png": "[encoded data removed]",
      "text/plain": [
       "Figure(PyObject <Figure size 800x800 with 1 Axes>)"
      ]
     },
     "metadata": {},
     "output_type": "display_data"
    },
    {
     "data": {
      "text/plain": [
       "PyObject <matplotlib.collections.PathCollection object at 0x7ffb72d43a30>"
      ]
     },
     "execution_count": 20,
     "metadata": {},
     "output_type": "execute_result"
    }
   ],
   "source": [
    "colors = [\"red\",\"blue\",\"green\"]\n",
    "X1 = X[y.==1,:]\n",
    "X2 = X[y.==2,:]\n",
    "X3 = X[y.==3,:]\n",
    "\n",
    "fig = figure(figsize=(8,8))\n",
    "title(\"Plotting Blobs\")\n",
    "R = scatter(X1[:,1], X1[:,2], color=\"red\",   label = \"center 1\", s = 30)\n",
    "G = scatter(X2[:,1], X2[:,2], color=\"blue\",  label = \"center 2\", s = 30)\n",
    "B = scatter(X3[:,1], X3[:,2], color=\"green\", label = \"center 3\", s = 30)\n",
    "\n",
    "#scatter(xvalues, f2(xvalues,W1,b1), color=\"red\", label = \"center 3\", s = 1)\n",
    "#scatter(xvalues, f2(xvalues,W2,b2), color=\"blue\", label = \"center 3\", s = 1)\n",
    "#scatter(xvalues, f2(xvalues,W3,b3), color=\"green\", label = \"center 3\", s = 1)\n",
    "legend()\n",
    "\n",
    "scatter(Xgrid[Ygrid.==1, :][:,1],Xgrid[Ygrid.==1, :][:,2], color=colors[1],\n",
    "        label = \"center 3\", s = 5, alpha=0.1)\n",
    "scatter(Xgrid[Ygrid.==2, :][:,1],Xgrid[Ygrid.==2, :][:,2], color=colors[2],\n",
    "        label = \"center 3\", s = 5, alpha=0.1)\n",
    "scatter(Xgrid[Ygrid.==3, :][:,1],Xgrid[Ygrid.==3, :][:,2], color=colors[3],\n",
    "        label = \"center 3\", s = 5, alpha=0.1)"
   ]
  },
  {
   "cell_type": "code",
   "execution_count": null,
   "metadata": {},
   "outputs": [],
   "source": []
  },
  {
   "cell_type": "code",
   "execution_count": 221,
   "metadata": {},
   "outputs": [
    {
     "data": {
      "image/png": "[encoded data removed]",
      "text/plain": [
       "Figure(PyObject <Figure size 800x800 with 1 Axes>)"
      ]
     },
     "metadata": {},
     "output_type": "display_data"
    },
    {
     "name": "stdout",
     "output_type": "stream",
     "text": [
      "\r",
      "\u001b[KEpoch: 1 \t Accuracy: 0.96\r",
      "\u001b[KEpoch: 2 \t Accuracy: 0.98\r",
      "\u001b[KEpoch: 3 \t Accuracy: 0.97\r",
      "\u001b[KEpoch: 4 \t Accuracy: 0.98\r",
      "\u001b[KEpoch: 5 \t Accuracy: 0.97\r",
      "\u001b[KEpoch: 6 \t Accuracy: 0.97\r",
      "\u001b[KEpoch: 7 \t Accuracy: 0.98\r",
      "\u001b[KEpoch: 8 \t Accuracy: 0.96\r",
      "\u001b[KEpoch: 9 \t Accuracy: 0.98\r",
      "\u001b[KEpoch: 10 \t Accuracy: 0.97\r",
      "\u001b[KEpoch: 11 \t Accuracy: 0.97\r",
      "\u001b[KEpoch: 12 \t Accuracy: 0.97\r",
      "\u001b[KEpoch: 13 \t Accuracy: 0.97\r",
      "\u001b[KEpoch: 14 \t Accuracy: 0.97\r",
      "\u001b[KEpoch: 15 \t Accuracy: 0.97\r",
      "\u001b[KEpoch: 16 \t Accuracy: 0.97\r",
      "\u001b[KEpoch: 17 \t Accuracy: 0.98\r",
      "\u001b[KEpoch: 18 \t Accuracy: 0.97\r",
      "\u001b[KEpoch: 19 \t Accuracy: 0.97\r",
      "\u001b[KEpoch: 20 \t Accuracy: 0.97\r",
      "\u001b[KEpoch: 21 \t Accuracy: 0.97\r",
      "\u001b[KEpoch: 22 \t Accuracy: 0.97\r",
      "\u001b[KEpoch: 23 \t Accuracy: 0.97\r",
      "\u001b[KEpoch: 24 \t Accuracy: 0.97\r",
      "\u001b[KEpoch: 25 \t Accuracy: 0.97\r",
      "\u001b[KEpoch: 26 \t Accuracy: 0.97\r",
      "\u001b[KEpoch: 27 \t Accuracy: 0.97\r",
      "\u001b[KEpoch: 28 \t Accuracy: 0.97\r",
      "\u001b[KEpoch: 29 \t Accuracy: 0.97\r",
      "\u001b[KEpoch: 30 \t Accuracy: 0.97\r",
      "\u001b[KEpoch: 31 \t Accuracy: 0.97\r",
      "\u001b[KEpoch: 32 \t Accuracy: 0.97\r",
      "\u001b[KEpoch: 33 \t Accuracy: 0.97\r",
      "\u001b[KEpoch: 34 \t Accuracy: 0.97\r",
      "\u001b[KEpoch: 35 \t Accuracy: 0.98\r",
      "\u001b[KEpoch: 36 \t Accuracy: 0.97\r",
      "\u001b[KEpoch: 37 \t Accuracy: 0.97\r",
      "\u001b[KEpoch: 38 \t Accuracy: 0.97\r",
      "\u001b[KEpoch: 39 \t Accuracy: 0.97\r",
      "\u001b[KEpoch: 40 \t Accuracy: 0.98\r",
      "\u001b[KEpoch: 41 \t Accuracy: 0.97\r",
      "\u001b[KEpoch: 42 \t Accuracy: 0.97\r",
      "\u001b[KEpoch: 43 \t Accuracy: 0.97\r",
      "\u001b[KEpoch: 44 \t Accuracy: 0.97\r",
      "\u001b[KEpoch: 45 \t Accuracy: 0.97\r",
      "\u001b[KEpoch: 46 \t Accuracy: 0.97\r",
      "\u001b[KEpoch: 47 \t Accuracy: 0.97\r",
      "\u001b[KEpoch: 48 \t Accuracy: 0.97\r",
      "\u001b[KEpoch: 49 \t Accuracy: 0.97\r",
      "\u001b[KEpoch: 50 \t Accuracy: 0.97\r",
      "\u001b[KEpoch: 51 \t Accuracy: 0.97\r",
      "\u001b[KEpoch: 52 \t Accuracy: 0.97\r",
      "\u001b[KEpoch: 53 \t Accuracy: 0.97\r",
      "\u001b[KEpoch: 54 \t Accuracy: 0.97\r",
      "\u001b[KEpoch: 55 \t Accuracy: 0.97\r",
      "\u001b[KEpoch: 56 \t Accuracy: 0.97\r",
      "\u001b[KEpoch: 57 \t Accuracy: 0.97\r",
      "\u001b[KEpoch: 58 \t Accuracy: 0.98\r",
      "\u001b[KEpoch: 59 \t Accuracy: 1.0\r",
      "\u001b[KEpoch: 60 \t Accuracy: 1.0\r",
      "\u001b[KEpoch: 61 \t Accuracy: 1.0\r",
      "\u001b[KEpoch: 62 \t Accuracy: 1.0\r",
      "\u001b[KEpoch: 63 \t Accuracy: 1.0\r",
      "\u001b[KEpoch: 64 \t Accuracy: 1.0\r",
      "\u001b[KEpoch: 65 \t Accuracy: 1.0\r",
      "\u001b[KEpoch: 66 \t Accuracy: 1.0\r",
      "\u001b[KEpoch: 67 \t Accuracy: 1.0\r",
      "\u001b[KEpoch: 68 \t Accuracy: 1.0\r",
      "\u001b[KEpoch: 69 \t Accuracy: 1.0\r",
      "\u001b[KEpoch: 70 \t Accuracy: 1.0\r",
      "\u001b[KEpoch: 71 \t Accuracy: 1.0\r",
      "\u001b[KEpoch: 72 \t Accuracy: 1.0\r",
      "\u001b[KEpoch: 73 \t Accuracy: 1.0\r",
      "\u001b[KEpoch: 74 \t Accuracy: 1.0\r",
      "\u001b[KEpoch: 75 \t Accuracy: 1.0\r",
      "\u001b[KEpoch: 76 \t Accuracy: 1.0\r",
      "\u001b[KEpoch: 77 \t Accuracy: 1.0\r",
      "\u001b[KEpoch: 78 \t Accuracy: 1.0\r",
      "\u001b[KEpoch: 79 \t Accuracy: 1.0\r",
      "\u001b[KEpoch: 80 \t Accuracy: 1.0\r",
      "\u001b[KEpoch: 81 \t Accuracy: 1.0\r",
      "\u001b[KEpoch: 82 \t Accuracy: 1.0\r",
      "\u001b[KEpoch: 83 \t Accuracy: 1.0\r",
      "\u001b[KEpoch: 84 \t Accuracy: 1.0\r",
      "\u001b[KEpoch: 85 \t Accuracy: 1.0\r",
      "\u001b[KEpoch: 86 \t Accuracy: 1.0\r",
      "\u001b[KEpoch: 87 \t Accuracy: 1.0\r",
      "\u001b[KEpoch: 88 \t Accuracy: 1.0\r",
      "\u001b[KEpoch: 89 \t Accuracy: 1.0\r",
      "\u001b[KEpoch: 90 \t Accuracy: 1.0\r",
      "\u001b[KEpoch: 91 \t Accuracy: 1.0\r",
      "\u001b[KEpoch: 92 \t Accuracy: 1.0\r",
      "\u001b[KEpoch: 93 \t Accuracy: 1.0\r",
      "\u001b[KEpoch: 94 \t Accuracy: 1.0\r",
      "\u001b[KEpoch: 95 \t Accuracy: 1.0\r",
      "\u001b[KEpoch: 96 \t Accuracy: 1.0\r",
      "\u001b[KEpoch: 97 \t Accuracy: 1.0\r",
      "\u001b[KEpoch: 98 \t Accuracy: 1.0\r",
      "\u001b[KEpoch: 99 \t Accuracy: 1.0\r",
      "\u001b[KEpoch: 100 \t Accuracy: 1.0\r",
      "\u001b[KEpoch: 101 \t Accuracy: 1.0\r",
      "\u001b[KEpoch: 102 \t Accuracy: 1.0\r",
      "\u001b[KEpoch: 103 \t Accuracy: 1.0\r",
      "\u001b[KEpoch: 104 \t Accuracy: 1.0\r",
      "\u001b[KEpoch: 105 \t Accuracy: 1.0\r",
      "\u001b[KEpoch: 106 \t Accuracy: 1.0\r",
      "\u001b[KEpoch: 107 \t Accuracy: 1.0\r",
      "\u001b[KEpoch: 108 \t Accuracy: 1.0\r",
      "\u001b[KEpoch: 109 \t Accuracy: 1.0\r",
      "\u001b[KEpoch: 110 \t Accuracy: 1.0\r",
      "\u001b[KEpoch: 111 \t Accuracy: 1.0\r",
      "\u001b[KEpoch: 112 \t Accuracy: 1.0\r",
      "\u001b[KEpoch: 113 \t Accuracy: 1.0\r",
      "\u001b[KEpoch: 114 \t Accuracy: 1.0\r",
      "\u001b[KEpoch: 115 \t Accuracy: 1.0\r",
      "\u001b[KEpoch: 116 \t Accuracy: 1.0\r",
      "\u001b[KEpoch: 117 \t Accuracy: 1.0\r",
      "\u001b[KEpoch: 118 \t Accuracy: 1.0\r",
      "\u001b[KEpoch: 119 \t Accuracy: 1.0\r",
      "\u001b[KEpoch: 120 \t Accuracy: 1.0\r",
      "\u001b[KEpoch: 121 \t Accuracy: 1.0\r",
      "\u001b[KEpoch: 122 \t Accuracy: 1.0\r",
      "\u001b[KEpoch: 123 \t Accuracy: 1.0\r",
      "\u001b[KEpoch: 124 \t Accuracy: 1.0\r",
      "\u001b[KEpoch: 125 \t Accuracy: 1.0\r",
      "\u001b[KEpoch: 126 \t Accuracy: 1.0\r",
      "\u001b[KEpoch: 127 \t Accuracy: 1.0\r",
      "\u001b[KEpoch: 128 \t Accuracy: 1.0\r",
      "\u001b[KEpoch: 129 \t Accuracy: 1.0\r",
      "\u001b[KEpoch: 130 \t Accuracy: 1.0\r",
      "\u001b[KEpoch: 131 \t Accuracy: 1.0\r",
      "\u001b[KEpoch: 132 \t Accuracy: 1.0\r",
      "\u001b[KEpoch: 133 \t Accuracy: 1.0\r",
      "\u001b[KEpoch: 134 \t Accuracy: 1.0\r",
      "\u001b[KEpoch: 135 \t Accuracy: 1.0\r",
      "\u001b[KEpoch: 136 \t Accuracy: 1.0\r",
      "\u001b[KEpoch: 137 \t Accuracy: 1.0\r",
      "\u001b[KEpoch: 138 \t Accuracy: 1.0\r",
      "\u001b[KEpoch: 139 \t Accuracy: 1.0\r",
      "\u001b[KEpoch: 140 \t Accuracy: 1.0\r",
      "\u001b[KEpoch: 141 \t Accuracy: 1.0\r",
      "\u001b[KEpoch: 142 \t Accuracy: 1.0\r",
      "\u001b[KEpoch: 143 \t Accuracy: 1.0\r",
      "\u001b[KEpoch: 144 \t Accuracy: 1.0\r",
      "\u001b[KEpoch: 145 \t Accuracy: 1.0\r",
      "\u001b[KEpoch: 146 \t Accuracy: 1.0\r",
      "\u001b[KEpoch: 147 \t Accuracy: 1.0\r",
      "\u001b[KEpoch: 148 \t Accuracy: 1.0\r",
      "\u001b[KEpoch: 149 \t Accuracy: 1.0\r",
      "\u001b[KEpoch: 150 \t Accuracy: 1.0\r",
      "\u001b[KEpoch: 151 \t Accuracy: 1.0\r",
      "\u001b[KEpoch: 152 \t Accuracy: 1.0\r",
      "\u001b[KEpoch: 153 \t Accuracy: 1.0\r",
      "\u001b[KEpoch: 154 \t Accuracy: 1.0\r",
      "\u001b[KEpoch: 155 \t Accuracy: 1.0\r",
      "\u001b[KEpoch: 156 \t Accuracy: 1.0\r",
      "\u001b[KEpoch: 157 \t Accuracy: 1.0\r",
      "\u001b[KEpoch: 158 \t Accuracy: 1.0\r",
      "\u001b[KEpoch: 159 \t Accuracy: 1.0\r",
      "\u001b[KEpoch: 160 \t Accuracy: 1.0\r",
      "\u001b[KEpoch: 161 \t Accuracy: 1.0\r",
      "\u001b[KEpoch: 162 \t Accuracy: 1.0\r",
      "\u001b[KEpoch: 163 \t Accuracy: 1.0\r",
      "\u001b[KEpoch: 164 \t Accuracy: 1.0\r",
      "\u001b[KEpoch: 165 \t Accuracy: 1.0\r",
      "\u001b[KEpoch: 166 \t Accuracy: 1.0\r",
      "\u001b[KEpoch: 167 \t Accuracy: 1.0\r",
      "\u001b[KEpoch: 168 \t Accuracy: 1.0\r",
      "\u001b[KEpoch: 169 \t Accuracy: 1.0\r",
      "\u001b[KEpoch: 170 \t Accuracy: 1.0\r",
      "\u001b[KEpoch: 171 \t Accuracy: 1.0\r",
      "\u001b[KEpoch: 172 \t Accuracy: 1.0\r",
      "\u001b[KEpoch: 173 \t Accuracy: 1.0\r",
      "\u001b[KEpoch: 174 \t Accuracy: 1.0\r",
      "\u001b[KEpoch: 175 \t Accuracy: 1.0\r",
      "\u001b[KEpoch: 176 \t Accuracy: 1.0\r",
      "\u001b[KEpoch: 177 \t Accuracy: 1.0\r",
      "\u001b[KEpoch: 178 \t Accuracy: 1.0\r",
      "\u001b[KEpoch: 179 \t Accuracy: 1.0\r",
      "\u001b[KEpoch: 180 \t Accuracy: 1.0\r",
      "\u001b[KEpoch: 181 \t Accuracy: 1.0\r",
      "\u001b[KEpoch: 182 \t Accuracy: 1.0\r",
      "\u001b[KEpoch: 183 \t Accuracy: 1.0\r",
      "\u001b[KEpoch: 184 \t Accuracy: 1.0\r",
      "\u001b[KEpoch: 185 \t Accuracy: 1.0\r",
      "\u001b[KEpoch: 186 \t Accuracy: 1.0\r",
      "\u001b[KEpoch: 187 \t Accuracy: 1.0\r",
      "\u001b[KEpoch: 188 \t Accuracy: 1.0\r",
      "\u001b[KEpoch: 189 \t Accuracy: 1.0\r",
      "\u001b[KEpoch: 190 \t Accuracy: 1.0\r",
      "\u001b[KEpoch: 191 \t Accuracy: 1.0\r",
      "\u001b[KEpoch: 192 \t Accuracy: 1.0\r",
      "\u001b[KEpoch: 193 \t Accuracy: 1.0\r",
      "\u001b[KEpoch: 194 \t Accuracy: 1.0\r",
      "\u001b[KEpoch: 195 \t Accuracy: 1.0\r",
      "\u001b[KEpoch: 196 \t Accuracy: 1.0\r",
      "\u001b[KEpoch: 197 \t Accuracy: 1.0\r",
      "\u001b[KEpoch: 198 \t Accuracy: 1.0\r",
      "\u001b[KEpoch: 199 \t Accuracy: 1.0\r",
      "\u001b[KEpoch: 200 \t Accuracy: 1.0"
     ]
    },
    {
     "data": {
      "text/plain": [
       "PyObject <matplotlib.collections.PathCollection object at 0x7f835e8a7310>"
      ]
     },
     "execution_count": 221,
     "metadata": {},
     "output_type": "execute_result"
    }
   ],
   "source": [
    " X, y, c = make_blobs(100; centers=3, random_seed=7, return_centers=true)\n",
    "model = MulticlassPerceptronCore(Float64, n_classes, n_features, false)\n",
    "fit!(model, X', y; n_epochs=200, verbosity=1)\n",
    "\n",
    "xvalues = Array(range(-10,10,length=100));\n",
    "square = Base.Iterators.product(xvalues, xvalues) |> collect\n",
    "Xgrid = [[x[1] for x in square[:]] [x[2] for x in square[:]] ];\n",
    "Ygrid = predict(model, Xgrid');\n",
    "\n",
    "colors = [\"red\",\"blue\",\"green\"]\n",
    "X1 = X[y.==1,:]\n",
    "X2 = X[y.==2,:]\n",
    "X3 = X[y.==3,:]\n",
    "\n",
    "fig = figure(figsize=(8,8))\n",
    "title(\"Plotting Blobs\")\n",
    "R = scatter(X1[:,1], X1[:,2], color=\"red\",   label = \"center 1\", s = 30)\n",
    "G = scatter(X2[:,1], X2[:,2], color=\"blue\",  label = \"center 2\", s = 30)\n",
    "B = scatter(X3[:,1], X3[:,2], color=\"green\", label = \"center 3\", s = 30)\n",
    "\n",
    "#scatter(xvalues, f2(xvalues,W1,b1), color=\"red\", label = \"center 3\", s = 1)\n",
    "#scatter(xvalues, f2(xvalues,W2,b2), color=\"blue\", label = \"center 3\", s = 1)\n",
    "#scatter(xvalues, f2(xvalues,W3,b3), color=\"green\", label = \"center 3\", s = 1)\n",
    "legend()\n",
    "\n",
    "scatter(Xgrid[Ygrid.==1, :][:,1],Xgrid[Ygrid.==1, :][:,2], color=colors[1],\n",
    "        label = \"center 3\", s = 5, alpha=0.1)\n",
    "scatter(Xgrid[Ygrid.==2, :][:,1],Xgrid[Ygrid.==2, :][:,2], color=colors[2],\n",
    "        label = \"center 3\", s = 5, alpha=0.1)\n",
    "scatter(Xgrid[Ygrid.==3, :][:,1],Xgrid[Ygrid.==3, :][:,2], color=colors[3],\n",
    "        label = \"center 3\", s = 5, alpha=0.1)"
   ]
  },
  {
   "cell_type": "code",
   "execution_count": null,
   "metadata": {},
   "outputs": [],
   "source": []
  },
  {
   "cell_type": "code",
   "execution_count": null,
   "metadata": {},
   "outputs": [],
   "source": []
  },
  {
   "cell_type": "code",
   "execution_count": null,
   "metadata": {},
   "outputs": [],
   "source": []
  },
  {
   "cell_type": "code",
   "execution_count": null,
   "metadata": {},
   "outputs": [],
   "source": []
  },
  {
   "cell_type": "code",
   "execution_count": null,
   "metadata": {},
   "outputs": [],
   "source": []
  },
  {
   "cell_type": "code",
   "execution_count": null,
   "metadata": {},
   "outputs": [],
   "source": [
    "\n",
    "\n",
    "function shuffle_Xy(X, y; random_seed=1234)\n",
    "    Random.seed!(random_seed)\n",
    "    perm = randperm(length(y))\n",
    "    return X[perm,:], y[perm]\n",
    "end"
   ]
  },
  {
   "cell_type": "code",
   "execution_count": 338,
   "metadata": {},
   "outputs": [
    {
     "name": "stdout",
     "output_type": "stream",
     "text": [
      "34"
     ]
    }
   ],
   "source": [
    "n_per_center\n",
    "k=3\n",
    "print(\"$(n_per_center[k])\")"
   ]
  },
  {
   "cell_type": "code",
   "execution_count": 362,
   "metadata": {
    "scrolled": false
   },
   "outputs": [
    {
     "data": {
      "text/plain": [
       "make_blobs2 (generic function with 2 methods)"
      ]
     },
     "execution_count": 362,
     "metadata": {},
     "output_type": "execute_result"
    }
   ],
   "source": [
    "function make_blobs2(n::Int=100; p::Int=2,\n",
    "                    shuffle::Bool=false, centers=3, cluster_std::Real=1.0, center_box=(-10.,10.),\n",
    "                    element_type=Float64, random_seed=1234, return_centers=false, verbose=0)\n",
    "\n",
    "    Random.seed!(random_seed)\n",
    "\n",
    "    X = []\n",
    "    y = []\n",
    "\n",
    "    if typeof(centers) <: Int\n",
    "        n_centers = centers\n",
    "        centers = []\n",
    "        for c in 1:n_centers\n",
    "            center_sample = uniform_sample_in_minval_maxval(p, center_box[1], center_box[2])\n",
    "            push!(centers, center_sample)\n",
    "        end\n",
    "    else\n",
    "        n_centers = length(centers)\n",
    "    end\n",
    "\n",
    "    if typeof(cluster_std) <: AbstractFloat\n",
    "        cluster_std = cluster_std * randn(n_centers)\n",
    "    end\n",
    "\n",
    "    # generates div(n, n_centers) examples assigned to each center\n",
    "    n_per_center = [div(n, n_centers) for x  in 1:n_centers]\n",
    "\n",
    "    # adds the reamainding examples to each center up to n\n",
    "    n_per_center = fill(div(n,n_centers), n_centers)\n",
    "    n_per_center[end] += rem(n,n_centers)\n",
    "\n",
    "    # generates the actual vectors close to each center blob\n",
    "    X = zeros(n, p)\n",
    "    y = zeros(n)\n",
    "\n",
    "    start_ind = 1\n",
    "    for (i, (n_blob, std, center)) in enumerate(zip(n_per_center, cluster_std, centers))\n",
    "        ind_center = start_ind:(start_ind + n_per_center[i]-1)\n",
    "        X[ind_center,:] .= center' .+ std .* randn(element_type, (n_per_center[i], p));\n",
    "        y[ind_center] .= i\n",
    "        if verbose>0\n",
    "            println(\"center $i with $(n_per_center[i]) points created\")\n",
    "        end\n",
    "        start_ind += n_per_center[i]\n",
    "    end\n",
    "\n",
    "    if shuffle\n",
    "       X, y = shuffle_Xy(X, y ; random_seed=random_seed)\n",
    "    end\n",
    "\n",
    "    if return_centers\n",
    "        return X, y, centers\n",
    "    else\n",
    "        return X, y\n",
    "    end\n",
    "end"
   ]
  },
  {
   "cell_type": "code",
   "execution_count": 367,
   "metadata": {},
   "outputs": [
    {
     "name": "stderr",
     "output_type": "stream",
     "text": [
      "┌ Info: Recompiling stale cache file /Users/davidbuchaca1/.julia/compiled/v1.1/BenchmarkTools/ZXPQo.ji for BenchmarkTools [6e4b80f9-dd63-53aa-95a3-0cdb28fa8baf]\n",
      "└ @ Base loading.jl:1184\n",
      "┌ Warning: Module JSON with build ID 34420740956980 is missing from the cache.\n",
      "│ This may mean JSON [682c06a0-de6a-54ab-a142-c8b1cf79cde6] does not support precompilation but is imported by a module that does.\n",
      "└ @ Base loading.jl:947\n"
     ]
    },
    {
     "name": "stdout",
     "output_type": "stream",
     "text": [
      "  25.059 μs (113 allocations: 8.67 KiB)\n"
     ]
    },
    {
     "data": {
      "text/plain": [
       "([0.37752 4.45575; -0.188931 4.76348; … ; 6.739 0.612116; 6.82295 0.504707], [1.0, 1.0, 1.0, 1.0, 1.0, 1.0, 1.0, 1.0, 1.0, 1.0  …  3.0, 3.0, 3.0, 3.0, 3.0, 3.0, 3.0, 3.0, 3.0, 3.0])"
      ]
     },
     "execution_count": 367,
     "metadata": {},
     "output_type": "execute_result"
    }
   ],
   "source": [
    "@btime X, y= make_blobs2(100; centers=3, random_seed=5, return_centers=false)"
   ]
  },
  {
   "cell_type": "code",
   "execution_count": 361,
   "metadata": {},
   "outputs": [
    {
     "data": {
      "image/png": "[encoded data removed]",
      "text/plain": [
       "Figure(PyObject <Figure size 500x500 with 1 Axes>)"
      ]
     },
     "metadata": {},
     "output_type": "display_data"
    },
    {
     "data": {
      "text/plain": [
       "PyObject <matplotlib.legend.Legend object at 0x7f993124c1d0>"
      ]
     },
     "execution_count": 361,
     "metadata": {},
     "output_type": "execute_result"
    }
   ],
   "source": [
    "\n",
    "X1 = X[y.==1,:]\n",
    "X2 = X[y.==2,:]\n",
    "X3 = X[y.==3,:]\n",
    "\n",
    "fig = figure(figsize=(5,5))\n",
    "title(\"Plotting Blobs\")\n",
    "R = scatter(X1[:,1],X1[:,2],color=\"red\",   label = \"center 1\", s = 30)\n",
    "G = scatter(X2[:,1],X2[:,2],color=\"blue\",  label = \"center 2\", s = 30)\n",
    "B = scatter(X3[:,1],X3[:,2],color=\"green\", label = \"center 3\", s = 30)\n",
    "legend(loc=\"right\")\n",
    "#savefig(\"blobs.pdf\")  "
   ]
  },
  {
   "cell_type": "code",
   "execution_count": null,
   "metadata": {},
   "outputs": [],
   "source": []
  },
  {
   "cell_type": "code",
   "execution_count": null,
   "metadata": {},
   "outputs": [],
   "source": []
  },
  {
   "cell_type": "code",
   "execution_count": 277,
   "metadata": {},
   "outputs": [
    {
     "data": {
      "text/plain": [
       "(-10.0, 10.0)"
      ]
     },
     "execution_count": 277,
     "metadata": {},
     "output_type": "execute_result"
    }
   ],
   "source": [
    "centers = 3\n",
    "p=2\n",
    "center_box=(-10.,10.)"
   ]
  },
  {
   "cell_type": "code",
   "execution_count": 278,
   "metadata": {},
   "outputs": [],
   "source": [
    "if typeof(centers) <: Int\n",
    "        n_centers = centers\n",
    "        centers = []\n",
    "        for c in 1:n_centers\n",
    "            center_sample = uniform_sample_in_minval_maxval(p, center_box[1], center_box[2])\n",
    "            push!(centers, center_sample)\n",
    "        end\n",
    "    else\n",
    "        n_centers = length(centers)\n",
    "    end"
   ]
  },
  {
   "cell_type": "code",
   "execution_count": 267,
   "metadata": {},
   "outputs": [
    {
     "data": {
      "text/plain": [
       "3-element Array{Any,1}:\n",
       " [-7.83917, -5.63958]\n",
       " [-1.07545, 1.06716] \n",
       " [5.49544, -8.63184] "
      ]
     },
     "execution_count": 267,
     "metadata": {},
     "output_type": "execute_result"
    }
   ],
   "source": [
    "centers"
   ]
  },
  {
   "cell_type": "code",
   "execution_count": 270,
   "metadata": {},
   "outputs": [
    {
     "data": {
      "text/plain": [
       "2-element Array{Float64,1}:\n",
       " -7.839172088318724\n",
       " -5.639578002860195"
      ]
     },
     "execution_count": 270,
     "metadata": {},
     "output_type": "execute_result"
    }
   ],
   "source": [
    "centers[1]"
   ]
  },
  {
   "cell_type": "code",
   "execution_count": 272,
   "metadata": {},
   "outputs": [
    {
     "data": {
      "text/plain": [
       "1:33"
      ]
     },
     "execution_count": 272,
     "metadata": {},
     "output_type": "execute_result"
    }
   ],
   "source": [
    "ind_center = 1:n_per_center[1]"
   ]
  },
  {
   "cell_type": "code",
   "execution_count": 275,
   "metadata": {},
   "outputs": [
    {
     "data": {
      "text/plain": [
       "33×2 Array{Float64,2}:\n",
       " 0.0  0.0\n",
       " 0.0  0.0\n",
       " 0.0  0.0\n",
       " 0.0  0.0\n",
       " 0.0  0.0\n",
       " 0.0  0.0\n",
       " 0.0  0.0\n",
       " 0.0  0.0\n",
       " 0.0  0.0\n",
       " 0.0  0.0\n",
       " 0.0  0.0\n",
       " 0.0  0.0\n",
       " 0.0  0.0\n",
       " ⋮       \n",
       " 0.0  0.0\n",
       " 0.0  0.0\n",
       " 0.0  0.0\n",
       " 0.0  0.0\n",
       " 0.0  0.0\n",
       " 0.0  0.0\n",
       " 0.0  0.0\n",
       " 0.0  0.0\n",
       " 0.0  0.0\n",
       " 0.0  0.0\n",
       " 0.0  0.0\n",
       " 0.0  0.0"
      ]
     },
     "execution_count": 275,
     "metadata": {},
     "output_type": "execute_result"
    }
   ],
   "source": [
    "X  = zeros(n, p)\n",
    "X[ind_center,:] .= centers[1] .+ 0.3 "
   ]
  },
  {
   "cell_type": "code",
   "execution_count": null,
   "metadata": {},
   "outputs": [],
   "source": []
  },
  {
   "cell_type": "code",
   "execution_count": null,
   "metadata": {},
   "outputs": [],
   "source": []
  },
  {
   "cell_type": "code",
   "execution_count": 223,
   "metadata": {},
   "outputs": [],
   "source": [
    "X = zeros(n,p);"
   ]
  },
  {
   "cell_type": "code",
   "execution_count": 224,
   "metadata": {},
   "outputs": [
    {
     "name": "stdout",
     "output_type": "stream",
     "text": [
      "33    1   1:33"
     ]
    }
   ],
   "source": [
    "i = 1\n",
    "p = 1\n",
    "print(length(p:p+n_per_center[i]-1), \"    \", i, \"   \",p:p+n_per_center[i]-1)\n",
    "p += n_per_center[i];"
   ]
  },
  {
   "cell_type": "code",
   "execution_count": 225,
   "metadata": {
    "scrolled": true
   },
   "outputs": [
    {
     "name": "stdout",
     "output_type": "stream",
     "text": [
      "33    2   34:66"
     ]
    }
   ],
   "source": [
    "i = 2\n",
    "print(length(p:p+n_per_center[i]-1), \"    \", i, \"   \",p:p+n_per_center[i]-1)\n",
    "p += n_per_center[i];"
   ]
  },
  {
   "cell_type": "code",
   "execution_count": 226,
   "metadata": {},
   "outputs": [
    {
     "name": "stdout",
     "output_type": "stream",
     "text": [
      "34    3   67:100"
     ]
    }
   ],
   "source": [
    "i = 3\n",
    "print(length(p:p+n_per_center[i]-1), \"    \", i, \"   \",p:p+n_per_center[i]-1)\n",
    "p += n_per_center[i];"
   ]
  },
  {
   "cell_type": "code",
   "execution_count": 229,
   "metadata": {},
   "outputs": [],
   "source": [
    "X = zeros(100,2);"
   ]
  },
  {
   "cell_type": "code",
   "execution_count": 231,
   "metadata": {},
   "outputs": [],
   "source": [
    "X[1:20,:] = randn(Float64, (20, 2));"
   ]
  },
  {
   "cell_type": "code",
   "execution_count": null,
   "metadata": {},
   "outputs": [],
   "source": []
  },
  {
   "cell_type": "code",
   "execution_count": null,
   "metadata": {},
   "outputs": [],
   "source": []
  },
  {
   "cell_type": "code",
   "execution_count": null,
   "metadata": {},
   "outputs": [],
   "source": []
  },
  {
   "cell_type": "markdown",
   "metadata": {},
   "source": [
    "# Circles generator\n",
    "\n",
    "Make a circle containing another circle in 2d (mmake a ring with a ball inside).\n",
    "\n",
    "\n"
   ]
  },
  {
   "cell_type": "code",
   "execution_count": 74,
   "metadata": {},
   "outputs": [
    {
     "data": {
      "text/plain": [
       "linspace"
      ]
     },
     "execution_count": 74,
     "metadata": {},
     "output_type": "execute_result"
    }
   ],
   "source": [
    "\"\"\"\n",
    "    Return evenly spaced numbers over a specified interval.\n",
    "    \n",
    "    Returns `num` evenly spaced samples, calculated over the\n",
    "    interval [`start`, `stop`].\n",
    "    \n",
    "    The endpoint of the interval can optionally be excluded.\n",
    "\n",
    "\"\"\"\n",
    "function linspace(start, stop; num=50, endpoint=true, retstep=false)\n",
    "    dif  = stop-start\n",
    "    step = dif/num\n",
    "    result = []\n",
    "       \n",
    "    if endpoint \n",
    "        for i in 1:num\n",
    "            push!(result, start+i*step)\n",
    "        end\n",
    "    else\n",
    "        for i in 1:num\n",
    "            push!(result, start+(i-1)*step)\n",
    "        end\n",
    "    end\n",
    "    return result\n",
    "    \n",
    "end"
   ]
  },
  {
   "cell_type": "code",
   "execution_count": 75,
   "metadata": {},
   "outputs": [
    {
     "data": {
      "text/plain": [
       "make_circles"
      ]
     },
     "execution_count": 75,
     "metadata": {},
     "output_type": "execute_result"
    }
   ],
   "source": [
    "\"\"\"\n",
    "Shuffles the rows of an Array `X` and the values of a vector `y` using a randomly\n",
    "generated permutation. The same permutation is used to shuffle both `X` and `y`.\n",
    "\"\"\"\n",
    "function shuffle_Xy(X, y; random_seed=1234)\n",
    "    Random.seed!(random_seed)\n",
    "    perm = randperm(length(y))\n",
    "    return X[perm,:], y[perm]\n",
    "end\n",
    "\n",
    "\n",
    "\"\"\"\n",
    "    make_circles(n=100; shuffle=true, noise=0., random_seed=1234, factor=0.8)\n",
    "    \n",
    "    Generates a dataset with `n` bi-dimensional examples. Samples are created \n",
    "    from two circles. One of the circles inside the other. The `noise` scalar\n",
    "    can be used to add noise to the generation process. The scalar `factor` \n",
    "    can be used to make the radious of the smallest circle smaller.\n",
    "\n",
    "\"\"\"\n",
    "function make_circles(n=100; shuffle=true, noise=0., random_seed=1234, factor=0.8)\n",
    "    \n",
    "    @assert 0 <= factor <=1  #factor in [0,1] \n",
    "\n",
    "    n_out = div(n, 2)\n",
    "    n_in = n - n_out\n",
    "     \n",
    "    linspace_out = linspace(0, 2 * pi; num=n_out, endpoint=false)\n",
    "    linspace_in  = linspace(0, 2 * pi; num=n_in, endpoint=false)\n",
    "\n",
    "    outer_circ_x = cos.(linspace_out)\n",
    "    outer_circ_y = sin.(linspace_out)\n",
    "    inner_circ_x = cos.(linspace_in) .* factor\n",
    "    inner_circ_y = sin.(linspace_in) .* factor\n",
    "    \n",
    "    X = [[outer_circ_x..., inner_circ_x...] [outer_circ_y..., inner_circ_y...]]\n",
    "    y = [ones(Int,n_out)..., 2*ones(Int,n_in)...]\n",
    "\n",
    "    if shuffle\n",
    "       X, y = shuffle_Xy(X, y ; random_seed=random_seed)\n",
    "    end\n",
    "    \n",
    "    if noise >0.\n",
    "        X .= X .+ noise.* rand(size(X)...)\n",
    "    end\n",
    "\n",
    "    return X,y\n",
    "end"
   ]
  },
  {
   "cell_type": "code",
   "execution_count": 76,
   "metadata": {},
   "outputs": [
    {
     "data": {
      "text/plain": [
       "10-element Array{Any,1}:\n",
       " 0.0               \n",
       " 0.6283185307179586\n",
       " 1.2566370614359172\n",
       " 1.8849555921538759\n",
       " 2.5132741228718345\n",
       " 3.141592653589793 \n",
       " 3.7699111843077517\n",
       " 4.39822971502571  \n",
       " 5.026548245743669 \n",
       " 5.654866776461628 "
      ]
     },
     "execution_count": 76,
     "metadata": {},
     "output_type": "execute_result"
    }
   ],
   "source": [
    "n_out = 10\n",
    "linspace(0, 2 * pi; num=n_out, endpoint=false)"
   ]
  },
  {
   "cell_type": "code",
   "execution_count": 77,
   "metadata": {},
   "outputs": [
    {
     "name": "stdout",
     "output_type": "stream",
     "text": [
      "search: \u001b[0m\u001b[1mf\u001b[22m\u001b[0m\u001b[1mi\u001b[22m\u001b[0m\u001b[1ml\u001b[22m\u001b[0m\u001b[1ml\u001b[22m \u001b[0m\u001b[1mf\u001b[22m\u001b[0m\u001b[1mi\u001b[22m\u001b[0m\u001b[1ml\u001b[22m\u001b[0m\u001b[1ml\u001b[22m! \u001b[0m\u001b[1mf\u001b[22m\u001b[0m\u001b[1mi\u001b[22m\u001b[0m\u001b[1ml\u001b[22m\u001b[0m\u001b[1ml\u001b[22m_between \u001b[0m\u001b[1mf\u001b[22m\u001b[0m\u001b[1mi\u001b[22m\u001b[0m\u001b[1ml\u001b[22m\u001b[0m\u001b[1ml\u001b[22m_betweenx \u001b[0m\u001b[1mf\u001b[22m\u001b[0m\u001b[1mi\u001b[22mna\u001b[0m\u001b[1ml\u001b[22m\u001b[0m\u001b[1ml\u001b[22my \u001b[0m\u001b[1mf\u001b[22m\u001b[0m\u001b[1mi\u001b[22mnda\u001b[0m\u001b[1ml\u001b[22m\u001b[0m\u001b[1ml\u001b[22m get_\u001b[0m\u001b[1mf\u001b[22m\u001b[0m\u001b[1mi\u001b[22mg\u001b[0m\u001b[1ml\u001b[22mabe\u001b[0m\u001b[1ml\u001b[22ms\n",
      "\n"
     ]
    },
    {
     "data": {
      "text/plain": [
       "2-element Array{Any,1}:\n",
       " ```\n",
       "fill(x, dims)\n",
       "```\n",
       "\n",
       "Create an array filled with the value `x`. For example, `fill(1.0, (5,5))` returns a 5×5 array of floats, with each element initialized to `1.0`.\n",
       "\n",
       "# Examples\n",
       "\n",
       "```jldoctest\n",
       "julia> fill(1.0, (5,5))\n",
       "5×5 Array{Float64,2}:\n",
       " 1.0  1.0  1.0  1.0  1.0\n",
       " 1.0  1.0  1.0  1.0  1.0\n",
       " 1.0  1.0  1.0  1.0  1.0\n",
       " 1.0  1.0  1.0  1.0  1.0\n",
       " 1.0  1.0  1.0  1.0  1.0\n",
       "```\n",
       "\n",
       "If `x` is an object reference, all elements will refer to the same object. `fill(Foo(), dims)` will return an array filled with the result of evaluating `Foo()` once.\n",
       "                                                                                                                                                                                                                                                                                                                                                                                                                                                                                                                                                                                                                                                                                                                                                                                                                                                                                                                                                                                             \n",
       " \n",
       "        Plot filled polygons.\n",
       "\n",
       "        Parameters\n",
       "        ----------\n",
       "        *args : sequence of x, y, [color]\n",
       "            Each polygon is defined by the lists of *x* and *y* positions of\n",
       "            its nodes, optionally followed by a *color* specifier. See\n",
       "            :mod:`matplotlib.colors` for supported color specifiers. The\n",
       "            standard color cycle is used for polygons without a color\n",
       "            specifier.\n",
       "\n",
       "            You can plot multiple polygons by providing multiple *x*, *y*,\n",
       "            *[color]* groups.\n",
       "\n",
       "            For example, each of the following is legal::\n",
       "\n",
       "                ax.fill(x, y)                    # a polygon with default color\n",
       "                ax.fill(x, y, \"b\")               # a blue polygon\n",
       "                ax.fill(x, y, x2, y2)            # two polygons\n",
       "                ax.fill(x, y, \"b\", x2, y2, \"r\")  # a blue and a red polygon\n",
       "\n",
       "        data : indexable object, optional\n",
       "            An object with labelled data. If given, provide the label names to\n",
       "            plot in *x* and *y*, e.g.::\n",
       "\n",
       "                ax.fill(\"time\", \"signal\",\n",
       "                        data={\"time\": [0, 1, 2], \"signal\": [0, 1, 0]})\n",
       "\n",
       "        Returns\n",
       "        -------\n",
       "        a list of :class:`~matplotlib.patches.Polygon`\n",
       "\n",
       "        Other Parameters\n",
       "        ----------------\n",
       "        **kwargs : :class:`~matplotlib.patches.Polygon` properties\n",
       "\n",
       "        Notes\n",
       "        -----\n",
       "        Use :meth:`fill_between` if you would like to fill the region between\n",
       "        two curves.\n",
       "        "
      ]
     },
     "execution_count": 77,
     "metadata": {},
     "output_type": "execute_result"
    }
   ],
   "source": [
    "?fill"
   ]
  },
  {
   "cell_type": "code",
   "execution_count": 46,
   "metadata": {},
   "outputs": [
    {
     "name": "stdout",
     "output_type": "stream",
     "text": [
      "search: \u001b[0m\u001b[1mL\u001b[22m\u001b[0m\u001b[1mi\u001b[22m\u001b[0m\u001b[1mn\u001b[22m\u001b[0m\u001b[1mR\u001b[22m\u001b[0m\u001b[1ma\u001b[22m\u001b[0m\u001b[1mn\u001b[22m\u001b[0m\u001b[1mg\u001b[22m\u001b[0m\u001b[1me\u001b[22m\n",
      "\n"
     ]
    },
    {
     "data": {
      "text/latex": [
       "\\begin{verbatim}\n",
       "LinRange{T}\n",
       "\\end{verbatim}\n",
       "A range with \\texttt{len} linearly spaced elements between its \\texttt{start} and \\texttt{stop}. The size of the spacing is controlled by \\texttt{len}, which must be an \\texttt{Int}.\n",
       "\n",
       "\\section{Examples}\n",
       "\\begin{verbatim}\n",
       "julia> LinRange(1.5, 5.5, 9)\n",
       "9-element LinRange{Float64}:\n",
       " 1.5,2.0,2.5,3.0,3.5,4.0,4.5,5.0,5.5\n",
       "\\end{verbatim}\n"
      ],
      "text/markdown": [
       "```\n",
       "LinRange{T}\n",
       "```\n",
       "\n",
       "A range with `len` linearly spaced elements between its `start` and `stop`. The size of the spacing is controlled by `len`, which must be an `Int`.\n",
       "\n",
       "# Examples\n",
       "\n",
       "```jldoctest\n",
       "julia> LinRange(1.5, 5.5, 9)\n",
       "9-element LinRange{Float64}:\n",
       " 1.5,2.0,2.5,3.0,3.5,4.0,4.5,5.0,5.5\n",
       "```\n"
      ],
      "text/plain": [
       "\u001b[36m  LinRange{T}\u001b[39m\n",
       "\n",
       "  A range with \u001b[36mlen\u001b[39m linearly spaced elements between its \u001b[36mstart\u001b[39m and \u001b[36mstop\u001b[39m. The\n",
       "  size of the spacing is controlled by \u001b[36mlen\u001b[39m, which must be an \u001b[36mInt\u001b[39m.\n",
       "\n",
       "\u001b[1m  Examples\u001b[22m\n",
       "\u001b[1m  ≡≡≡≡≡≡≡≡≡≡\u001b[22m\n",
       "\n",
       "\u001b[36m  julia> LinRange(1.5, 5.5, 9)\u001b[39m\n",
       "\u001b[36m  9-element LinRange{Float64}:\u001b[39m\n",
       "\u001b[36m   1.5,2.0,2.5,3.0,3.5,4.0,4.5,5.0,5.5\u001b[39m"
      ]
     },
     "execution_count": 46,
     "metadata": {},
     "output_type": "execute_result"
    }
   ],
   "source": [
    "?LinRange"
   ]
  },
  {
   "cell_type": "code",
   "execution_count": 53,
   "metadata": {},
   "outputs": [],
   "source": [
    "#range(0,2*pi,10)"
   ]
  },
  {
   "cell_type": "code",
   "execution_count": 54,
   "metadata": {},
   "outputs": [],
   "source": [
    "#?range"
   ]
  },
  {
   "cell_type": "code",
   "execution_count": null,
   "metadata": {},
   "outputs": [],
   "source": []
  },
  {
   "cell_type": "code",
   "execution_count": null,
   "metadata": {},
   "outputs": [],
   "source": []
  },
  {
   "cell_type": "code",
   "execution_count": 96,
   "metadata": {},
   "outputs": [
    {
     "data": {
      "image/png": "[encoded data removed]",
      "text/plain": [
       "Figure(PyObject <Figure size 500x500 with 1 Axes>)"
      ]
     },
     "metadata": {},
     "output_type": "display_data"
    },
    {
     "data": {
      "text/plain": [
       "PyObject <matplotlib.legend.Legend object at 0x13f290ac8>"
      ]
     },
     "execution_count": 96,
     "metadata": {},
     "output_type": "execute_result"
    }
   ],
   "source": [
    "X,y = make_circles(100; factor=0.9);\n",
    "\n",
    "X1 = X[y.==1,:]\n",
    "X2 = X[y.==2,:]\n",
    "\n",
    "fig = figure(figsize=(5,5))\n",
    "title(\"Plotting concentric circles\")\n",
    "R = scatter(X1[:,1],X1[:,2],color=\"red\",   label = \"circle 1\", s = 30)\n",
    "G = scatter(X2[:,1],X2[:,2],color=\"blue\",  label = \"circle 2\", s = 30)\n",
    "legend(loc=\"right\")\n",
    "#savefig(\"concentric_circles.pdf\")  "
   ]
  },
  {
   "cell_type": "code",
   "execution_count": 93,
   "metadata": {},
   "outputs": [
    {
     "data": {
      "image/png": "[encoded data removed]",
      "text/plain": [
       "Figure(PyObject <Figure size 500x500 with 1 Axes>)"
      ]
     },
     "metadata": {},
     "output_type": "display_data"
    },
    {
     "data": {
      "text/plain": [
       "PyObject <matplotlib.legend.Legend object at 0x13f024eb8>"
      ]
     },
     "execution_count": 93,
     "metadata": {},
     "output_type": "execute_result"
    }
   ],
   "source": [
    "X,y = make_circles(100;noise=0.2, factor= 0.3);\n",
    "\n",
    "X1 = X[y.==1,:]\n",
    "X2 = X[y.==2,:]\n",
    "\n",
    "fig = figure(figsize=(5,5))\n",
    "title(\"Plotting concentric circles\")\n",
    "R = scatter(X1[:,1],X1[:,2],color=\"red\",   label = \"circle 1\", s = 30)\n",
    "G = scatter(X2[:,1],X2[:,2],color=\"blue\",  label = \"cricle 2\", s = 30)\n",
    "legend(loc=\"right\")\n",
    "#savefig(\"concentric_circles.pdf\")  "
   ]
  },
  {
   "cell_type": "code",
   "execution_count": 92,
   "metadata": {},
   "outputs": [
    {
     "data": {
      "image/png": "[encoded data removed]",
      "text/plain": [
       "Figure(PyObject <Figure size 500x500 with 1 Axes>)"
      ]
     },
     "metadata": {},
     "output_type": "display_data"
    },
    {
     "data": {
      "text/plain": [
       "PyObject <matplotlib.legend.Legend object at 0x13ef0cf60>"
      ]
     },
     "execution_count": 92,
     "metadata": {},
     "output_type": "execute_result"
    }
   ],
   "source": [
    "X,y = make_circles(100;noise=0.1, factor=0.3);\n",
    "\n",
    "X1 = X[y.==1,:]\n",
    "X2 = X[y.==2,:]\n",
    "\n",
    "fig = figure(figsize=(5,5))\n",
    "title(\"Plotting concentric circles\")\n",
    "R = scatter(X1[:,1],X1[:,2],color=\"red\",   label = \"circle 1\", s = 30)\n",
    "G = scatter(X2[:,1],X2[:,2],color=\"blue\",  label = \"cricle 2\", s = 30)\n",
    "legend(loc=\"right\")\n",
    "#savefig(\"concentric_circles.pdf\")  "
   ]
  },
  {
   "cell_type": "markdown",
   "metadata": {},
   "source": [
    "# Make moons"
   ]
  },
  {
   "cell_type": "code",
   "execution_count": 64,
   "metadata": {},
   "outputs": [
    {
     "data": {
      "text/plain": [
       "make_moons (generic function with 2 methods)"
      ]
     },
     "execution_count": 64,
     "metadata": {},
     "output_type": "execute_result"
    }
   ],
   "source": [
    "\"\"\"\n",
    "    make_moons(n=100; shuffle=true, noise=0., translation=0.5, factor=1.0, random_seed=1234)\n",
    "    \n",
    "    Generates `n` examples sampling from two moons. The `noise` can be changed to add\n",
    "    noise to the samples.\n",
    "\n",
    "\"\"\"\n",
    "function make_moons(n=100; shuffle=true, noise=0., translation=0.5, factor=1.0, random_seed=1234)\n",
    "    \n",
    "    @assert 0 <= factor <=1  \n",
    "\n",
    "    n_out = div(n, 2)\n",
    "    n_in = n - n_out\n",
    "     \n",
    "    linspace_out = linspace(0, pi; num=n_out, endpoint=true)\n",
    "    linspace_in  = linspace(0, pi; num=n_in, endpoint=true)\n",
    "\n",
    "    \n",
    "\n",
    "    outer_circ_x = cos.(linspace_out)\n",
    "    outer_circ_y = sin.(linspace_out)\n",
    "    inner_circ_x = 1 .- cos.(linspace_in) .* factor\n",
    "    inner_circ_y = 1 .- sin.(linspace_in) .* factor .- translation\n",
    "    \n",
    "    X = [[outer_circ_x..., inner_circ_x...] [outer_circ_y..., inner_circ_y...]]\n",
    "    y = [ones(Int,n_out)..., 2*ones(Int,n_in)...]\n",
    "\n",
    "    if shuffle\n",
    "       X, y = shuffle_Xy(X, y ; random_seed=random_seed)\n",
    "    end\n",
    "    \n",
    "    if noise >0.\n",
    "        X .= X .+ noise.* rand(size(X)...)\n",
    "    end\n",
    "\n",
    "    return X,y\n",
    "end"
   ]
  },
  {
   "cell_type": "code",
   "execution_count": 72,
   "metadata": {},
   "outputs": [
    {
     "data": {
      "image/png": "[encoded data removed]",
      "text/plain": [
       "Figure(PyObject <Figure size 500x500 with 1 Axes>)"
      ]
     },
     "metadata": {},
     "output_type": "display_data"
    },
    {
     "data": {
      "text/plain": [
       "PyObject <matplotlib.legend.Legend object at 0x13d7435f8>"
      ]
     },
     "execution_count": 72,
     "metadata": {},
     "output_type": "execute_result"
    }
   ],
   "source": [
    "X,y = make_moons(100;noise=0.1);\n",
    "\n",
    "X1 = X[y.==1,:]\n",
    "X2 = X[y.==2,:]\n",
    "\n",
    "fig = figure(figsize=(5,5))\n",
    "title(\"Plotting moons\")\n",
    "R = scatter(X1[:,1],X1[:,2],color=\"red\",   label = \"circle 1\", s = 30)\n",
    "G = scatter(X2[:,1],X2[:,2],color=\"blue\",  label = \"cricle 2\", s = 30)\n",
    "legend(loc=\"right\")"
   ]
  },
  {
   "cell_type": "code",
   "execution_count": 78,
   "metadata": {},
   "outputs": [
    {
     "data": {
      "image/png": "[encoded data removed]",
      "text/plain": [
       "Figure(PyObject <Figure size 500x500 with 1 Axes>)"
      ]
     },
     "metadata": {},
     "output_type": "display_data"
    },
    {
     "data": {
      "text/plain": [
       "PyObject <matplotlib.legend.Legend object at 0x13df69550>"
      ]
     },
     "execution_count": 78,
     "metadata": {},
     "output_type": "execute_result"
    }
   ],
   "source": [
    "X,y = make_moons(100;noise=0.1, factor=0.6);\n",
    "\n",
    "\n",
    "X1 = X[y.==1,:]\n",
    "X2 = X[y.==2,:]\n",
    "\n",
    "fig = figure(figsize=(5,5))\n",
    "title(\"Plotting moons\")\n",
    "R = scatter(X1[:,1],X1[:,2],color=\"red\",   label = \"circle 1\", s = 30)\n",
    "G = scatter(X2[:,1],X2[:,2],color=\"blue\",  label = \"cricle 2\", s = 30)\n",
    "legend(loc=\"right\")"
   ]
  },
  {
   "cell_type": "code",
   "execution_count": 79,
   "metadata": {},
   "outputs": [
    {
     "data": {
      "image/png": "[encoded data removed]",
      "text/plain": [
       "Figure(PyObject <Figure size 500x500 with 1 Axes>)"
      ]
     },
     "metadata": {},
     "output_type": "display_data"
    },
    {
     "data": {
      "text/plain": [
       "PyObject <matplotlib.legend.Legend object at 0x13e0c4940>"
      ]
     },
     "execution_count": 79,
     "metadata": {},
     "output_type": "execute_result"
    }
   ],
   "source": [
    "X,y = make_moons(100; noise=0.1, translation=1.0);\n",
    "\n",
    "X1 = X[y.==1,:]\n",
    "X2 = X[y.==2,:]\n",
    "\n",
    "fig = figure(figsize=(5,5))\n",
    "title(\"Plotting moons\")\n",
    "R = scatter(X1[:,1],X1[:,2],color=\"red\",   label = \"circle 1\", s = 30)\n",
    "G = scatter(X2[:,1],X2[:,2],color=\"blue\",  label = \"cricle 2\", s = 30)\n",
    "legend(loc=\"right\")"
   ]
  },
  {
   "cell_type": "code",
   "execution_count": 80,
   "metadata": {},
   "outputs": [
    {
     "data": {
      "image/png": "[encoded data removed]",
      "text/plain": [
       "Figure(PyObject <Figure size 500x500 with 1 Axes>)"
      ]
     },
     "metadata": {},
     "output_type": "display_data"
    },
    {
     "data": {
      "text/plain": [
       "PyObject <matplotlib.legend.Legend object at 0x13e1eef28>"
      ]
     },
     "execution_count": 80,
     "metadata": {},
     "output_type": "execute_result"
    }
   ],
   "source": [
    "X,y = make_moons(100; noise=0.4, translation=0.4);\n",
    "\n",
    "X1 = X[y.==1,:]\n",
    "X2 = X[y.==2,:]\n",
    "\n",
    "fig = figure(figsize=(5,5))\n",
    "title(\"Plotting moons\")\n",
    "R = scatter(X1[:,1],X1[:,2],color=\"red\",   label = \"circle 1\", s = 30)\n",
    "G = scatter(X2[:,1],X2[:,2],color=\"blue\",  label = \"cricle 2\", s = 30)\n",
    "legend(loc=\"right\")"
   ]
  },
  {
   "cell_type": "code",
   "execution_count": 82,
   "metadata": {},
   "outputs": [
    {
     "data": {
      "image/png": "[encoded data removed]",
      "text/plain": [
       "Figure(PyObject <Figure size 500x500 with 1 Axes>)"
      ]
     },
     "metadata": {},
     "output_type": "display_data"
    },
    {
     "data": {
      "text/plain": [
       "PyObject <matplotlib.legend.Legend object at 0x13e0b94e0>"
      ]
     },
     "execution_count": 82,
     "metadata": {},
     "output_type": "execute_result"
    }
   ],
   "source": [
    "X,y = make_moons(100; noise=0.4, translation=2.);\n",
    "\n",
    "X1 = X[y.==1,:]\n",
    "X2 = X[y.==2,:]\n",
    "\n",
    "fig = figure(figsize=(5,5))\n",
    "title(\"Plotting moons\")\n",
    "R = scatter(X1[:,1],X1[:,2],color=\"red\",   label = \"circle 1\", s = 30)\n",
    "G = scatter(X2[:,1],X2[:,2],color=\"blue\",  label = \"cricle 2\", s = 30)\n",
    "legend(loc=\"right\")"
   ]
  },
  {
   "cell_type": "code",
   "execution_count": null,
   "metadata": {},
   "outputs": [],
   "source": []
  },
  {
   "cell_type": "code",
   "execution_count": null,
   "metadata": {},
   "outputs": [],
   "source": []
  }
 ],
 "metadata": {
  "kernelspec": {
   "display_name": "Julia 1.5.3",
   "language": "julia",
   "name": "julia-1.5"
  },
  "language_info": {
   "file_extension": ".jl",
   "mimetype": "application/julia",
   "name": "julia",
   "version": "1.5.3"
  },
  "toc": {
   "base_numbering": 1,
   "nav_menu": {},
   "number_sections": true,
   "sideBar": true,
   "skip_h1_title": false,
   "title_cell": "Table of Contents",
   "title_sidebar": "Contents",
   "toc_cell": false,
   "toc_position": {},
   "toc_section_display": true,
   "toc_window_display": false
  }
 },
 "nbformat": 4,
 "nbformat_minor": 2
}
