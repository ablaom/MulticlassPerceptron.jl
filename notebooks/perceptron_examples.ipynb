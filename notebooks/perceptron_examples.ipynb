{
 "cells": [
  {
   "cell_type": "code",
   "execution_count": 2,
   "metadata": {},
   "outputs": [
    {
     "name": "stderr",
     "output_type": "stream",
     "text": [
      "┌ Info: Precompiling MulticlassPerceptron [dab37cba-9818-490d-9918-279965c31300]\n",
      "└ @ Base loading.jl:1278\n",
      "ERROR: LoadError: LoadError: UndefVarError: MLJModelInterface not defined\n",
      "Stacktrace:\n",
      " [1] top-level scope at /Users/davidbuchaca/.julia/packages/MLJModelInterface/lb8aH/src/metadata_utils.jl:101\n",
      " [2] eval at ./boot.jl:331 [inlined]\n",
      " [3] eval(::Expr) at /Users/davidbuchaca/Documents/git_stuff/MulticlassPerceptron.jl/src/MulticlassPerceptron.jl:1\n",
      " [4] metadata_model(::Type{T} where T; input::Type{T} where T, target::Type{T} where T, output::Type{T} where T, weights::Bool, descr::String, path::String) at /Users/davidbuchaca/.julia/packages/MLJModelInterface/lb8aH/src/metadata_utils.jl:110\n",
      " [5] top-level scope at /Users/davidbuchaca/Documents/git_stuff/MulticlassPerceptron.jl/src/mlj/interface.jl:152\n",
      " [6] include(::Function, ::Module, ::String) at ./Base.jl:380\n",
      " [7] include at ./Base.jl:368 [inlined]\n",
      " [8] include(::String) at /Users/davidbuchaca/Documents/git_stuff/MulticlassPerceptron.jl/src/MulticlassPerceptron.jl:1\n",
      " [9] top-level scope at /Users/davidbuchaca/Documents/git_stuff/MulticlassPerceptron.jl/src/MulticlassPerceptron.jl:7\n",
      " [10] include(::Function, ::Module, ::String) at ./Base.jl:380\n",
      " [11] include(::Module, ::String) at ./Base.jl:368\n",
      " [12] top-level scope at none:2\n",
      " [13] eval at ./boot.jl:331 [inlined]\n",
      " [14] eval(::Expr) at ./client.jl:467\n",
      " [15] top-level scope at ./none:3\n",
      "in expression starting at /Users/davidbuchaca/Documents/git_stuff/MulticlassPerceptron.jl/src/mlj/interface.jl:152\n",
      "in expression starting at /Users/davidbuchaca/Documents/git_stuff/MulticlassPerceptron.jl/src/MulticlassPerceptron.jl:7\n"
     ]
    },
    {
     "ename": "LoadError",
     "evalue": "Failed to precompile MulticlassPerceptron [dab37cba-9818-490d-9918-279965c31300] to /Users/davidbuchaca/.julia/compiled/v1.5/MulticlassPerceptron/UgIHs_FaPdK.ji.",
     "output_type": "error",
     "traceback": [
      "Failed to precompile MulticlassPerceptron [dab37cba-9818-490d-9918-279965c31300] to /Users/davidbuchaca/.julia/compiled/v1.5/MulticlassPerceptron/UgIHs_FaPdK.ji.",
      "",
      "Stacktrace:",
      " [1] error(::String) at ./error.jl:33",
      " [2] compilecache(::Base.PkgId, ::String) at ./loading.jl:1305",
      " [3] _require(::Base.PkgId) at ./loading.jl:1030",
      " [4] require(::Base.PkgId) at ./loading.jl:928",
      " [5] require(::Module, ::Symbol) at ./loading.jl:923",
      " [6] include_string(::Function, ::Module, ::String, ::String) at ./loading.jl:1091",
      " [7] execute_code(::String, ::String) at /Users/davidbuchaca/.julia/packages/IJulia/a1SNk/src/execute_request.jl:27",
      " [8] execute_request(::ZMQ.Socket, ::IJulia.Msg) at /Users/davidbuchaca/.julia/packages/IJulia/a1SNk/src/execute_request.jl:86",
      " [9] #invokelatest#1 at ./essentials.jl:710 [inlined]",
      " [10] invokelatest at ./essentials.jl:709 [inlined]",
      " [11] eventloop(::ZMQ.Socket) at /Users/davidbuchaca/.julia/packages/IJulia/a1SNk/src/eventloop.jl:8",
      " [12] (::IJulia.var\"#15#18\")() at ./task.jl:356"
     ]
    }
   ],
   "source": [
    "using Statistics\n",
    "using MLJBase, CategoricalArrays\n",
    "using MLJ\n",
    "\n",
    "# We use flux only to get the MNIST\n",
    "using Flux, Flux.Data.MNIST\n",
    "\n",
    "#push!(LOAD_PATH, \"../src/\") ## Uncomment if MulticlassPerceptron not installed\n",
    "using MulticlassPerceptron\n"
   ]
  },
  {
   "cell_type": "markdown",
   "metadata": {},
   "source": [
    "## Loading the data\n",
    "\n"
   ]
  },
  {
   "cell_type": "code",
   "execution_count": null,
   "metadata": {},
   "outputs": [
    {
     "name": "stdout",
     "output_type": "stream",
     "text": [
      "\n",
      "Loading data\n",
      "\n",
      "\n",
      "MNIST Dataset Loading...\n"
     ]
    },
    {
     "name": "stderr",
     "output_type": "stream",
     "text": [
      "┌ Info: Downloading MNIST dataset\n",
      "└ @ Flux.Data.MNIST /Users/davidbuchaca/.julia/packages/Flux/05b38/src/data/mnist.jl:24\n",
      "┌ Info: Downloading MNIST dataset\n",
      "└ @ Flux.Data.MNIST /Users/davidbuchaca/.julia/packages/Flux/05b38/src/data/mnist.jl:24\n"
     ]
    }
   ],
   "source": [
    "function load_MNIST( ;array_eltype::DataType=Float32, verbose::Bool=true)\n",
    "\n",
    "    if verbose\n",
    "        time_init = time()\n",
    "        println(\"\\nMNIST Dataset Loading...\")\n",
    "    end\n",
    "    train_imgs = MNIST.images(:train)                             # size(train_imgs) -> (60000,)\n",
    "    test_imgs  = MNIST.images(:test)                              # size(test_imgs)  -> (10000,)\n",
    "    train_x    = array_eltype.(hcat(reshape.(train_imgs, :)...))  # size(train_x)    -> (784, 60000)\n",
    "    test_x     = array_eltype.(hcat(reshape.(test_imgs, :)...))   # size(test_x)     -> (784, 60000)\n",
    "\n",
    "    ## Prepare data\n",
    "    train_y = MNIST.labels(:train) .+ 1;\n",
    "    test_y  = MNIST.labels(:test)  .+ 1;\n",
    "\n",
    "    ## Encode targets as CategoricalArray objects\n",
    "    train_y = CategoricalArray(train_y)\n",
    "    test_y  = CategoricalArray(test_y)\n",
    "\n",
    "    if verbose\n",
    "        time_taken = round(time()-time_init; digits=3)\n",
    "        println(\"\\nMNIST Dataset Loaded, it took $time_taken seconds\")\n",
    "    end\n",
    "    return train_x, train_y, test_x, test_y\n",
    "end\n",
    "\n",
    "println(\"\\nLoading data\\n\")\n",
    "train_x, train_y, test_x, test_y = load_MNIST( ;array_eltype=Float32, verbose=true)\n"
   ]
  },
  {
   "cell_type": "code",
   "execution_count": 3,
   "metadata": {},
   "outputs": [],
   "source": [
    "## Define model and train it\n",
    "n_features = size(train_x, 1);\n",
    "n_classes  = length(unique(train_y));\n",
    "y = MNIST.labels(:train) .+ 1;"
   ]
  },
  {
   "cell_type": "markdown",
   "metadata": {},
   "source": [
    "## MulticlassPerceptronCore Object\n",
    "\n",
    "The simplest way to train a MulticlassPerceptron is using the `MulticlassPerceptronCore` struct that simply stores the basic information of the model.\n",
    "\n",
    "```julia\n",
    "mutable struct MulticlassPerceptronCore{T}\n",
    "    W::AbstractMatrix{T}\n",
    "    b::AbstractVector{T}\n",
    "    n_classes::Int\n",
    "    n_features::Int\n",
    "    is_sparse::Bool\n",
    "end\n",
    "```"
   ]
  },
  {
   "cell_type": "code",
   "execution_count": 4,
   "metadata": {},
   "outputs": [
    {
     "data": {
      "text/plain": [
       "MulticlassPerceptronCore{Float32}(Float32[0.5650226 0.46391666 … 0.6035713 0.39280367; 0.8111923 0.70772016 … 0.46389484 0.84303176; … ; 0.2729447 0.10912049 … 0.14752984 0.23505485; 0.43693638 0.12277317 … 0.7287166 0.9326323], Float32[0.0, 0.0, 0.0, 0.0, 0.0, 0.0, 0.0, 0.0, 0.0, 0.0], 10, 784, false)"
      ]
     },
     "execution_count": 4,
     "metadata": {},
     "output_type": "execute_result"
    }
   ],
   "source": [
    "is_sparse = false\n",
    "perceptron = MulticlassPerceptronCore(Float32, n_classes, n_features, is_sparse) "
   ]
  },
  {
   "cell_type": "code",
   "execution_count": 5,
   "metadata": {},
   "outputs": [
    {
     "name": "stdout",
     "output_type": "stream",
     "text": [
      "\u001b[KEpoch: 50 \t Accuracy: 0.898"
     ]
    },
    {
     "data": {
      "text/plain": [
       "10-element Array{Float32,1}:\n",
       " -58.42659 \n",
       "  34.944298\n",
       "  20.117249\n",
       " -21.463497\n",
       "   5.943909\n",
       " 102.04138 \n",
       " -32.88856 \n",
       "  55.006344\n",
       " -91.90213 \n",
       " -13.372534"
      ]
     },
     "execution_count": 5,
     "metadata": {},
     "output_type": "execute_result"
    }
   ],
   "source": [
    "fit!(perceptron,\n",
    "     train_x,\n",
    "     y;\n",
    "     verbosity=1,\n",
    "     n_epochs=50,\n",
    "     f_average_weights=true)"
   ]
  },
  {
   "cell_type": "code",
   "execution_count": 6,
   "metadata": {},
   "outputs": [
    {
     "name": "stdout",
     "output_type": "stream",
     "text": [
      "Results:\n",
      "Train accuracy:0.93545\n",
      "Test accuracy:0.9265\n",
      "\n",
      "\n"
     ]
    }
   ],
   "source": [
    "y_hat_train = predict(perceptron, train_x)\n",
    "y_hat_test  = predict(perceptron, test_x);\n",
    "\n",
    "## Evaluate the model\n",
    "println(\"Results:\")\n",
    "println(\"Train accuracy:\", mean(y_hat_train .== train_y))\n",
    "println(\"Test accuracy:\",  mean(y_hat_test  .== test_y))\n",
    "println(\"\\n\")"
   ]
  },
  {
   "cell_type": "markdown",
   "metadata": {},
   "source": [
    "## MulticlassPerceptronClassifier Object\n",
    "\n",
    "The `MulticlassPerceptronClassifier` is the basic object build to take advantage of MLJ capabilities.\n",
    "\n",
    "We can use `fit` with a CategoricalArray of the target (which can have any values, it is not restricted to values from 1 to the number of classes). "
   ]
  },
  {
   "cell_type": "code",
   "execution_count": 7,
   "metadata": {},
   "outputs": [
    {
     "data": {
      "text/plain": [
       "MulticlassPerceptronClassifier(n_epochs = 50,\n",
       "                               n_epoch_patience = 5,\n",
       "                               f_average_weights = true,\n",
       "                               f_shuffle_data = false,\n",
       "                               element_type = Float32,)\u001b[34m @ 1…15\u001b[39m"
      ]
     },
     "execution_count": 7,
     "metadata": {},
     "output_type": "execute_result"
    }
   ],
   "source": [
    "## Define model and train it\n",
    "n_features = size(train_x, 1);\n",
    "n_classes  = length(unique(train_y));\n",
    "perceptron = MulticlassPerceptronClassifier(n_epochs=50; f_average_weights=true)"
   ]
  },
  {
   "cell_type": "markdown",
   "metadata": {},
   "source": [
    "Training a `MulticlassPerceptronClassifier`"
   ]
  },
  {
   "cell_type": "code",
   "execution_count": 8,
   "metadata": {},
   "outputs": [
    {
     "name": "stdout",
     "output_type": "stream",
     "text": [
      "\n",
      "Start Learning\n",
      "\n",
      "\u001b[KEpoch: 50 \t Accuracy: 0.898"
     ]
    },
    {
     "data": {
      "text/plain": [
       "10.476"
      ]
     },
     "execution_count": 8,
     "metadata": {},
     "output_type": "execute_result"
    }
   ],
   "source": [
    "## Train the model\n",
    "println(\"\\nStart Learning\\n\")\n",
    "time_init = time()\n",
    "fitresult, _ , _  = fit(perceptron, 1, train_x, train_y) #\n",
    "time_taken = round(time()-time_init; digits=3)"
   ]
  },
  {
   "cell_type": "markdown",
   "metadata": {},
   "source": [
    "Make predictions"
   ]
  },
  {
   "cell_type": "code",
   "execution_count": 9,
   "metadata": {},
   "outputs": [
    {
     "name": "stdout",
     "output_type": "stream",
     "text": [
      "\n",
      "Learning took 10.476 seconds\n",
      "\n",
      "Results:\n",
      "Train accuracy:0.9358166666666666\n",
      "Test accuracy:0.9271\n",
      "\n",
      "\n"
     ]
    }
   ],
   "source": [
    "println(\"\\nLearning took $time_taken seconds\\n\")\n",
    "\n",
    "## Make predictions\n",
    "y_hat_train = predict(fitresult, train_x)\n",
    "y_hat_test  = predict(fitresult, test_x);\n",
    "\n",
    "## Evaluate the model\n",
    "println(\"Results:\")\n",
    "println(\"Train accuracy:\", mean(y_hat_train .== train_y))\n",
    "println(\"Test accuracy:\",  mean(y_hat_test  .== test_y))\n",
    "println(\"\\n\")"
   ]
  },
  {
   "cell_type": "markdown",
   "metadata": {},
   "source": [
    "## Machine with `MulticlassPerceptronClassifier`\n",
    "\n"
   ]
  },
  {
   "cell_type": "code",
   "execution_count": 10,
   "metadata": {},
   "outputs": [
    {
     "data": {
      "text/plain": [
       "(784, 60000)"
      ]
     },
     "execution_count": 10,
     "metadata": {},
     "output_type": "execute_result"
    }
   ],
   "source": [
    "size(train_x)"
   ]
  },
  {
   "cell_type": "code",
   "execution_count": 11,
   "metadata": {},
   "outputs": [
    {
     "data": {
      "text/plain": [
       "Tables.MatrixTable{LinearAlgebra.Adjoint{Float32,Array{Float32,2}}}(Symbol[:x1, :x2, :x3, :x4, :x5, :x6, :x7, :x8, :x9, :x10  …  :x775, :x776, :x777, :x778, :x779, :x780, :x781, :x782, :x783, :x784], Dict(:x753 => 753,:x620 => 620,:x233 => 233,:x71 => 71,:x110 => 110,:x685 => 685,:x348 => 348,:x630 => 630,:x539 => 539,:x608 => 608…), Float32[0.0 0.0 … 0.0 0.0; 0.0 0.0 … 0.0 0.0; … ; 0.0 0.0 … 0.0 0.0; 0.0 0.0 … 0.0 0.0])"
      ]
     },
     "execution_count": 11,
     "metadata": {},
     "output_type": "execute_result"
    }
   ],
   "source": [
    "train_x_rowexamples = MLJBase.table(train_x')  \n",
    "train_x_rowexamples"
   ]
  },
  {
   "cell_type": "code",
   "execution_count": 12,
   "metadata": {},
   "outputs": [
    {
     "data": {
      "text/plain": [
       "MulticlassPerceptronClassifier(n_epochs = 50,\n",
       "                               n_epoch_patience = 5,\n",
       "                               f_average_weights = true,\n",
       "                               f_shuffle_data = false,\n",
       "                               element_type = Float32,)\u001b[34m @ 9…09\u001b[39m"
      ]
     },
     "execution_count": 12,
     "metadata": {},
     "output_type": "execute_result"
    }
   ],
   "source": [
    "perceptron = MulticlassPerceptronClassifier(n_epochs=50; f_average_weights=true)"
   ]
  },
  {
   "cell_type": "code",
   "execution_count": 13,
   "metadata": {},
   "outputs": [
    {
     "data": {
      "text/plain": [
       "\u001b[34mMachine{MulticlassPerceptronClassifier} @ 5…88\u001b[39m\n"
      ]
     },
     "execution_count": 13,
     "metadata": {},
     "output_type": "execute_result"
    }
   ],
   "source": [
    "# machines expert Tables.Table or DataFrame objects, not AbstractArrays\n",
    "perceptron_machine = machine(perceptron, train_x_rowexamples, train_y)  "
   ]
  },
  {
   "cell_type": "code",
   "execution_count": 14,
   "metadata": {},
   "outputs": [
    {
     "name": "stdout",
     "output_type": "stream",
     "text": [
      "\n",
      "Start Learning\n",
      "\n"
     ]
    },
    {
     "name": "stderr",
     "output_type": "stream",
     "text": [
      "┌ Info: Training \u001b[34mMachine{MulticlassPerceptronClassifier} @ 5…88\u001b[39m.\n",
      "└ @ MLJ /Users/macpro/.julia/packages/MLJ/O4DUw/src/machines.jl:141\n"
     ]
    },
    {
     "name": "stdout",
     "output_type": "stream",
     "text": [
      "\u001b[KEpoch: 50 \t Accuracy: 0.898\n",
      "Learning took 18.894 seconds\n",
      "\n"
     ]
    }
   ],
   "source": [
    "## Train the model\n",
    "println(\"\\nStart Learning\\n\")\n",
    "time_init = time()\n",
    "#fitresult, _ , _  = MLJBase.fit(perceptron, 1, train_x, train_y) # If train_y is a CategoricalArray\n",
    "fit!(perceptron_machine)\n",
    "time_taken = round(time()-time_init; digits=3)\n",
    "println(\"\\nLearning took $time_taken seconds\\n\")"
   ]
  },
  {
   "cell_type": "code",
   "execution_count": 15,
   "metadata": {
    "scrolled": true
   },
   "outputs": [
    {
     "name": "stdout",
     "output_type": "stream",
     "text": [
      "Results:\n",
      "Train accuracy:0.9358\n",
      "Test accuracy:0.926\n",
      "\n",
      "\n"
     ]
    }
   ],
   "source": [
    "## Make predictions\n",
    "y_hat_train = predict(perceptron_machine, train_x)\n",
    "y_hat_test  = predict(perceptron_machine, test_x);\n",
    "\n",
    "## Evaluate the model\n",
    "println(\"Results:\")\n",
    "println(\"Train accuracy:\", mean(y_hat_train .== train_y))\n",
    "println(\"Test accuracy:\",  mean(y_hat_test  .== test_y))\n",
    "println(\"\\n\")"
   ]
  },
  {
   "cell_type": "markdown",
   "metadata": {},
   "source": [
    "## EnsembleModel\n",
    "\n",
    "MLJ offers basic support for ensembling techniques such as bagging. \n",
    "\n",
    "For the MulticlassPerceptorn as is, it does not make a lot of sense to do bagging, but for other estimators it is a pretty interesting technique.\n",
    "\n",
    "In order to define an Ensemble we need an \"atomic\" model."
   ]
  },
  {
   "cell_type": "code",
   "execution_count": 16,
   "metadata": {},
   "outputs": [],
   "source": [
    "using MLJ"
   ]
  },
  {
   "cell_type": "code",
   "execution_count": 17,
   "metadata": {},
   "outputs": [],
   "source": [
    "using Tables"
   ]
  },
  {
   "cell_type": "code",
   "execution_count": 18,
   "metadata": {},
   "outputs": [
    {
     "data": {
      "text/plain": [
       "Tables.MatrixTable{Array{Float32,2}}(Symbol[:Column1, :Column2, :Column3, :Column4, :Column5, :Column6, :Column7, :Column8, :Column9, :Column10  …  :Column775, :Column776, :Column777, :Column778, :Column779, :Column780, :Column781, :Column782, :Column783, :Column784], Dict(:Column42 => 42,:Column285 => 285,:Column714 => 714,:Column630 => 630,:Column167 => 167,:Column607 => 607,:Column693 => 693,:Column499 => 499,:Column52 => 52,:Column647 => 647…), Float32[0.0 0.0 … 0.0 0.0; 0.0 0.0 … 0.0 0.0; … ; 0.0 0.0 … 0.0 0.0; 0.0 0.0 … 0.0 0.0])"
      ]
     },
     "execution_count": 18,
     "metadata": {},
     "output_type": "execute_result"
    }
   ],
   "source": [
    "train_x_table = Tables.table(copy(train_x'))"
   ]
  },
  {
   "cell_type": "code",
   "execution_count": 19,
   "metadata": {},
   "outputs": [
    {
     "data": {
      "text/plain": [
       "AbstractArray{#s26,1} where #s26<:Finite"
      ]
     },
     "execution_count": 19,
     "metadata": {},
     "output_type": "execute_result"
    }
   ],
   "source": [
    "target_scitype(MulticlassPerceptronClassifier)"
   ]
  },
  {
   "cell_type": "code",
   "execution_count": 20,
   "metadata": {},
   "outputs": [
    {
     "data": {
      "text/plain": [
       "MulticlassPerceptronClassifier(n_epochs = 100,\n",
       "                               n_epoch_patience = 5,\n",
       "                               f_average_weights = true,\n",
       "                               f_shuffle_data = false,\n",
       "                               element_type = Float32,)\u001b[34m @ 3…63\u001b[39m"
      ]
     },
     "execution_count": 20,
     "metadata": {},
     "output_type": "execute_result"
    }
   ],
   "source": [
    "model        = MulticlassPerceptronClassifier()"
   ]
  },
  {
   "cell_type": "code",
   "execution_count": 21,
   "metadata": {},
   "outputs": [
    {
     "data": {
      "text/plain": [
       "MLJ.DeterministicEnsembleModel(atom = MulticlassPerceptronClassifier(n_epochs = 100,\n",
       "                                                                     n_epoch_patience = 5,\n",
       "                                                                     f_average_weights = true,\n",
       "                                                                     f_shuffle_data = false,\n",
       "                                                                     element_type = Float32,),\n",
       "                               weights = Float64[],\n",
       "                               bagging_fraction = 0.8,\n",
       "                               rng = Random._GLOBAL_RNG(),\n",
       "                               n = 10,\n",
       "                               acceleration = ComputationalResources.CPU1{Nothing}(nothing),\n",
       "                               out_of_bag_measure = Any[],)\u001b[34m @ 5…16\u001b[39m"
      ]
     },
     "execution_count": 21,
     "metadata": {},
     "output_type": "execute_result"
    }
   ],
   "source": [
    "ensemble_model   = EnsembleModel(atom=model, n=10)"
   ]
  },
  {
   "cell_type": "code",
   "execution_count": 22,
   "metadata": {},
   "outputs": [
    {
     "name": "stdout",
     "output_type": "stream",
     "text": [
      "  0.340027 seconds (263.20 k allocations: 192.407 MiB, 11.63% gc time)\n"
     ]
    },
    {
     "data": {
      "text/plain": [
       "\u001b[34mMachine{DeterministicEnsembleModel{MulticlassPerceptronClassifier}} @ 3…81\u001b[39m\n"
      ]
     },
     "execution_count": 22,
     "metadata": {},
     "output_type": "execute_result"
    }
   ],
   "source": [
    "@time ensemble_machine = machine(ensemble_model, train_x_table, train_y)"
   ]
  },
  {
   "cell_type": "code",
   "execution_count": 23,
   "metadata": {},
   "outputs": [
    {
     "name": "stderr",
     "output_type": "stream",
     "text": [
      "┌ Info: Training \u001b[34mMachine{DeterministicEnsembleModel{MulticlassPerceptronClassifier}} @ 3…81\u001b[39m.\n",
      "└ @ MLJ /Users/macpro/.julia/packages/MLJ/O4DUw/src/machines.jl:141\n",
      "\u001b[33mTraining ensemble: 100%[==================================================] Time: 0:02:30\u001b[39m\n"
     ]
    },
    {
     "name": "stdout",
     "output_type": "stream",
     "text": [
      "\n",
      "501.359605 seconds (325.28 M allocations: 73.528 GiB, 2.40% gc time)\n"
     ]
    },
    {
     "data": {
      "text/plain": [
       "\u001b[34mMachine{DeterministicEnsembleModel{MulticlassPerceptronClassifier}} @ 3…81\u001b[39m\n"
      ]
     },
     "execution_count": 23,
     "metadata": {},
     "output_type": "execute_result"
    }
   ],
   "source": [
    "@time fit!(ensemble_machine)"
   ]
  },
  {
   "cell_type": "code",
   "execution_count": 24,
   "metadata": {},
   "outputs": [
    {
     "name": "stdout",
     "output_type": "stream",
     "text": [
      "accuracy:  0.9399666666666666"
     ]
    }
   ],
   "source": [
    "y_hat = predict(ensemble_machine,train_x_table);\n",
    "print(\"accuracy:  $(mean(y_hat .== y))\")"
   ]
  },
  {
   "cell_type": "code",
   "execution_count": 25,
   "metadata": {},
   "outputs": [
    {
     "name": "stdout",
     "output_type": "stream",
     "text": [
      "accuracy:  0.927"
     ]
    }
   ],
   "source": [
    "test_x_table = Tables.table(copy(test_x'))\n",
    "y_hat_test   = predict(ensemble_machine, test_x_table);\n",
    "print(\"accuracy:  $(mean(y_hat_test .== test_y))\")"
   ]
  },
  {
   "cell_type": "markdown",
   "metadata": {},
   "source": [
    "Notice that an ensemble with bagging is simply a bunch of models which are used to make the final prediction (by simply averaging the predictions of the different models)"
   ]
  },
  {
   "cell_type": "code",
   "execution_count": 26,
   "metadata": {},
   "outputs": [
    {
     "data": {
      "text/plain": [
       "2-element Array{Tuple{MulticlassPerceptronCore{Float32},MLJBase.CategoricalDecoder{Int64,UInt32}},1}:\n",
       " (MulticlassPerceptronCore{Float32}(Float32[0.4784634 0.3611853 … 0.86662626 0.67473185; 0.4584763 0.9323393 … 0.62220395 0.93152404; … ; 0.1678698 0.83101666 … 0.7610233 0.546931; 0.106662035 0.98610127 … 0.97552323 0.6315185], Float32[-60.929695, 32.70521, 8.1863, -21.584425, 5.50861, 96.8037, -22.855516, 66.690125, -90.95068, -13.573548], 10, 784, false), MLJBase.CategoricalDecoder{Int64,UInt32}(CategoricalPool{Int64,UInt32}([1,2,3,4,5,6,7,8,9,10]), [2, 4, 6, 7, 3, 1, 8, 9, 10, 5]))  \n",
       " (MulticlassPerceptronCore{Float32}(Float32[0.3944986 0.69161904 … 0.9976491 0.6305163; 0.15075302 0.7414079 … 0.0011826754 0.7201482; … ; 0.870644 0.7313173 … 0.5787585 0.49066257; 0.8292482 0.3163396 … 0.10351348 0.8882675], Float32[-61.932487, 21.746744, 29.859648, -26.7205, 15.197302, 96.541534, -33.92519, 54.036354, -85.9457, -8.8579855], 10, 784, false), MLJBase.CategoricalDecoder{Int64,UInt32}(CategoricalPool{Int64,UInt32}([1,2,3,4,5,6,7,8,9,10]), [2, 4, 6, 7, 3, 1, 8, 9, 10, 5]))"
      ]
     },
     "execution_count": 26,
     "metadata": {},
     "output_type": "execute_result"
    }
   ],
   "source": [
    "ensemble_machine.fitresult.ensemble[1:2]"
   ]
  },
  {
   "cell_type": "markdown",
   "metadata": {},
   "source": [
    "We can see that bagging does not improve a lot the results for the MulticlassPerceptron"
   ]
  },
  {
   "cell_type": "code",
   "execution_count": 27,
   "metadata": {},
   "outputs": [
    {
     "name": "stdout",
     "output_type": "stream",
     "text": [
      "\u001b[KEpoch: 50 \t Accuracy: 0.899"
     ]
    },
    {
     "data": {
      "text/plain": [
       "0.9264"
      ]
     },
     "execution_count": 27,
     "metadata": {},
     "output_type": "execute_result"
    }
   ],
   "source": [
    "p = MulticlassPerceptronClassifier(n_epochs=50; f_average_weights=true)\n",
    "fitresult, _ , _  = fit(p, 1, train_x, train_y);\n",
    "y_test_preds = predict(fitresult, test_x);\n",
    "mean(y_test_preds .== test_y)"
   ]
  },
  {
   "cell_type": "markdown",
   "metadata": {},
   "source": [
    "### Composing Models"
   ]
  },
  {
   "cell_type": "code",
   "execution_count": null,
   "metadata": {},
   "outputs": [],
   "source": []
  },
  {
   "cell_type": "code",
   "execution_count": null,
   "metadata": {},
   "outputs": [],
   "source": []
  }
 ],
 "metadata": {
  "kernelspec": {
   "display_name": "Julia 1.5.3",
   "language": "julia",
   "name": "julia-1.5"
  },
  "language_info": {
   "file_extension": ".jl",
   "mimetype": "application/julia",
   "name": "julia",
   "version": "1.5.3"
  },
  "toc": {
   "base_numbering": 1,
   "nav_menu": {},
   "number_sections": true,
   "sideBar": true,
   "skip_h1_title": false,
   "title_cell": "Table of Contents",
   "title_sidebar": "Contents",
   "toc_cell": false,
   "toc_position": {},
   "toc_section_display": true,
   "toc_window_display": false
  }
 },
 "nbformat": 4,
 "nbformat_minor": 2
}
