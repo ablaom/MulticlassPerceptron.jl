{
 "cells": [
  {
   "cell_type": "code",
   "execution_count": 1,
   "metadata": {
    "ExecuteTime": {
     "end_time": "2020-12-20T19:47:06.224000+01:00",
     "start_time": "2020-12-20T18:46:41.758Z"
    }
   },
   "outputs": [],
   "source": [
    "using Statistics\n",
    "\n",
    "using CategoricalArrays\n",
    "using MLJ\n",
    "#using MLJBase\n",
    "\n",
    "using MLJModelInterface\n",
    "\n",
    "# We use flux only to get the MNIST\n",
    "using Flux, Flux.Data.MNIST\n"
   ]
  },
  {
   "cell_type": "code",
   "execution_count": 2,
   "metadata": {
    "ExecuteTime": {
     "end_time": "2020-12-20T19:47:07.175000+01:00",
     "start_time": "2020-12-20T18:46:41.759Z"
    }
   },
   "outputs": [],
   "source": [
    "#push!(LOAD_PATH, \"../src/\") ## Uncomment if MulticlassPerceptron not installed\n",
    "using MulticlassPerceptron"
   ]
  },
  {
   "cell_type": "markdown",
   "metadata": {},
   "source": [
    "## Loading the data\n",
    "\n"
   ]
  },
  {
   "cell_type": "code",
   "execution_count": 3,
   "metadata": {
    "ExecuteTime": {
     "end_time": "2020-12-20T19:47:10.381000+01:00",
     "start_time": "2020-12-20T18:46:41.760Z"
    }
   },
   "outputs": [
    {
     "name": "stdout",
     "output_type": "stream",
     "text": [
      "\n",
      "Loading data\n",
      "\n",
      "\n",
      "MNIST Dataset Loading...\n",
      "\n",
      "MNIST Dataset Loaded, it took 0.551 seconds\n"
     ]
    },
    {
     "data": {
      "text/plain": [
       "(Float32[0.0 0.0 … 0.0 0.0; 0.0 0.0 … 0.0 0.0; … ; 0.0 0.0 … 0.0 0.0; 0.0 0.0 … 0.0 0.0], CategoricalValue{Int64,UInt32}[6, 1, 5, 2, 10, 3, 2, 4, 2, 5  …  10, 3, 10, 6, 2, 9, 4, 6, 7, 9], Float32[0.0 0.0 … 0.0 0.0; 0.0 0.0 … 0.0 0.0; … ; 0.0 0.0 … 0.0 0.0; 0.0 0.0 … 0.0 0.0], CategoricalValue{Int64,UInt32}[8, 3, 2, 1, 5, 2, 5, 10, 6, 10  …  8, 9, 10, 1, 2, 3, 4, 5, 6, 7])"
      ]
     },
     "execution_count": 3,
     "metadata": {},
     "output_type": "execute_result"
    }
   ],
   "source": [
    "function load_MNIST( ;array_eltype::DataType=Float32, verbose::Bool=true)\n",
    "\n",
    "    if verbose\n",
    "        time_init = time()\n",
    "        println(\"\\nMNIST Dataset Loading...\")\n",
    "    end\n",
    "    train_imgs = MNIST.images(:train)                             # size(train_imgs) -> (60000,)\n",
    "    test_imgs  = MNIST.images(:test)                              # size(test_imgs)  -> (10000,)\n",
    "    train_x    = array_eltype.(hcat(reshape.(train_imgs, :)...))  # size(train_x)    -> (784, 60000)\n",
    "    test_x     = array_eltype.(hcat(reshape.(test_imgs, :)...))   # size(test_x)     -> (784, 60000)\n",
    "\n",
    "    ## Prepare data\n",
    "    train_y = MNIST.labels(:train) .+ 1;\n",
    "    test_y  = MNIST.labels(:test)  .+ 1;\n",
    "\n",
    "    ## Encode targets as CategoricalArray objects\n",
    "    train_y = CategoricalArray(train_y)\n",
    "    test_y  = CategoricalArray(test_y)\n",
    "\n",
    "    if verbose\n",
    "        time_taken = round(time()-time_init; digits=3)\n",
    "        println(\"\\nMNIST Dataset Loaded, it took $time_taken seconds\")\n",
    "    end\n",
    "    return train_x, train_y, test_x, test_y\n",
    "end\n",
    "\n",
    "println(\"\\nLoading data\\n\")\n",
    "train_x, train_y, test_x, test_y = load_MNIST( ;array_eltype=Float32, verbose=true)\n"
   ]
  },
  {
   "cell_type": "code",
   "execution_count": 4,
   "metadata": {
    "ExecuteTime": {
     "end_time": "2020-12-20T19:47:10.469000+01:00",
     "start_time": "2020-12-20T18:46:41.761Z"
    }
   },
   "outputs": [],
   "source": [
    "## Define model and train it\n",
    "n_features = size(train_x, 1);\n",
    "n_classes  = length(unique(train_y));\n",
    "y = MNIST.labels(:train) .+ 1;"
   ]
  },
  {
   "cell_type": "markdown",
   "metadata": {},
   "source": [
    "## MulticlassPerceptronCore Object\n",
    "\n",
    "The simplest way to train a MulticlassPerceptron is using the `MulticlassPerceptronCore` struct that simply stores the basic information of the model.\n",
    "\n",
    "```julia\n",
    "mutable struct MulticlassPerceptronCore{T}\n",
    "    W::AbstractMatrix{T}\n",
    "    b::AbstractVector{T}\n",
    "    n_classes::Int\n",
    "    n_features::Int\n",
    "    is_sparse::Bool\n",
    "end\n",
    "```"
   ]
  },
  {
   "cell_type": "code",
   "execution_count": 5,
   "metadata": {
    "ExecuteTime": {
     "end_time": "2020-12-20T19:47:10.860000+01:00",
     "start_time": "2020-12-20T18:46:41.762Z"
    }
   },
   "outputs": [
    {
     "data": {
      "text/plain": [
       "MulticlassPerceptronCore{Float32}(Float32[0.2217648 0.6161314 … 0.6663526 0.8924842; 0.8276682 0.47969973 … 0.6944289 0.468629; … ; 0.08168745 0.7302754 … 0.72023857 0.85164917; 0.55826354 0.49479234 … 0.6552303 0.62207437], Float32[0.0, 0.0, 0.0, 0.0, 0.0, 0.0, 0.0, 0.0, 0.0, 0.0], 10, 784, false)"
      ]
     },
     "execution_count": 5,
     "metadata": {},
     "output_type": "execute_result"
    }
   ],
   "source": [
    "is_sparse = false\n",
    "perceptron = MulticlassPerceptronCore(Float32, n_classes, n_features, is_sparse) "
   ]
  },
  {
   "cell_type": "code",
   "execution_count": 6,
   "metadata": {
    "ExecuteTime": {
     "end_time": "2020-12-20T19:47:19.112000+01:00",
     "start_time": "2020-12-20T18:46:41.763Z"
    }
   },
   "outputs": [
    {
     "data": {
      "text/plain": [
       "10-element Array{Float32,1}:\n",
       " -56.73323\n",
       "  35.082172\n",
       "  17.95843\n",
       " -21.79905\n",
       "   5.1034603\n",
       " 102.07189\n",
       " -32.864384\n",
       "  54.587036\n",
       " -91.14038\n",
       " -12.265953"
      ]
     },
     "execution_count": 6,
     "metadata": {},
     "output_type": "execute_result"
    }
   ],
   "source": [
    "fit!(perceptron,\n",
    "     train_x,\n",
    "     y;\n",
    "     verbosity=1,\n",
    "     n_epochs=50,\n",
    "     f_average_weights=true)"
   ]
  },
  {
   "cell_type": "code",
   "execution_count": 7,
   "metadata": {
    "ExecuteTime": {
     "end_time": "2020-12-20T19:47:20.415000+01:00",
     "start_time": "2020-12-20T18:46:41.764Z"
    }
   },
   "outputs": [
    {
     "name": "stdout",
     "output_type": "stream",
     "text": [
      "Results:\n",
      "Train accuracy:0.93585\n",
      "Test accuracy:0.926\n",
      "\n",
      "\n"
     ]
    }
   ],
   "source": [
    "y_hat_train = predict(perceptron, train_x)\n",
    "y_hat_test  = predict(perceptron, test_x);\n",
    "\n",
    "## Evaluate the model\n",
    "println(\"Results:\")\n",
    "println(\"Train accuracy:\", mean(y_hat_train .== train_y))\n",
    "println(\"Test accuracy:\",  mean(y_hat_test  .== test_y))\n",
    "println(\"\\n\")"
   ]
  },
  {
   "cell_type": "code",
   "execution_count": 8,
   "metadata": {
    "ExecuteTime": {
     "end_time": "2020-12-20T19:47:20.415000+01:00",
     "start_time": "2020-12-20T18:46:41.765Z"
    }
   },
   "outputs": [],
   "source": [
    "#MulticlassPerceptron.predict(perceptron,train_x)"
   ]
  },
  {
   "cell_type": "markdown",
   "metadata": {},
   "source": [
    "## MulticlassPerceptronClassifier Object\n",
    "\n",
    "The `MulticlassPerceptronClassifier` is the basic object build to take advantage of MLJ capabilities.\n",
    "\n",
    "We can use `fit` with a CategoricalArray of the target (which can have any values, it is not restricted to values from 1 to the number of classes). "
   ]
  },
  {
   "cell_type": "code",
   "execution_count": 9,
   "metadata": {
    "ExecuteTime": {
     "end_time": "2020-12-20T19:47:20.800000+01:00",
     "start_time": "2020-12-20T18:46:41.766Z"
    }
   },
   "outputs": [
    {
     "data": {
      "text/plain": [
       "MulticlassPerceptronClassifier(\n",
       "    n_epochs = 50,\n",
       "    n_epoch_patience = 5,\n",
       "    f_average_weights = true,\n",
       "    f_shuffle_data = false,\n",
       "    element_type = Float32)\u001b[34m @ 7…09\u001b[39m"
      ]
     },
     "execution_count": 9,
     "metadata": {},
     "output_type": "execute_result"
    }
   ],
   "source": [
    "## Define model and train it\n",
    "n_features = size(train_x, 1);\n",
    "n_classes  = length(unique(train_y));\n",
    "perceptron = MulticlassPerceptronClassifier(n_epochs=50; f_average_weights=true)"
   ]
  },
  {
   "cell_type": "markdown",
   "metadata": {},
   "source": [
    "Training a `MulticlassPerceptronClassifier`"
   ]
  },
  {
   "cell_type": "code",
   "execution_count": 10,
   "metadata": {
    "ExecuteTime": {
     "end_time": "2020-12-20T19:47:28.017000+01:00",
     "start_time": "2020-12-20T18:46:41.767Z"
    }
   },
   "outputs": [
    {
     "name": "stdout",
     "output_type": "stream",
     "text": [
      "\n",
      "Start Learning\n",
      "\n"
     ]
    },
    {
     "data": {
      "text/plain": [
       "6.992"
      ]
     },
     "execution_count": 10,
     "metadata": {},
     "output_type": "execute_result"
    }
   ],
   "source": [
    "## Train the model\n",
    "println(\"\\nStart Learning\\n\")\n",
    "time_init = time()\n",
    "fitresult, _ , _  = fit(perceptron, 1, train_x, train_y) #\n",
    "time_taken = round(time()-time_init; digits=3)"
   ]
  },
  {
   "cell_type": "markdown",
   "metadata": {},
   "source": [
    "Make predictions"
   ]
  },
  {
   "cell_type": "code",
   "execution_count": 11,
   "metadata": {
    "ExecuteTime": {
     "end_time": "2020-12-20T19:47:28.418000+01:00",
     "start_time": "2020-12-20T18:46:41.768Z"
    }
   },
   "outputs": [
    {
     "name": "stdout",
     "output_type": "stream",
     "text": [
      "\n",
      "Learning took 6.992 seconds\n",
      "\n",
      "Results:\n",
      "Train accuracy:0.93565\n",
      "Test accuracy:0.9264\n",
      "\n",
      "\n"
     ]
    }
   ],
   "source": [
    "println(\"\\nLearning took $time_taken seconds\\n\")\n",
    "\n",
    "## Make predictions\n",
    "y_hat_train = predict(fitresult, train_x)\n",
    "y_hat_test  = predict(fitresult, test_x);\n",
    "\n",
    "## Evaluate the model\n",
    "println(\"Results:\")\n",
    "println(\"Train accuracy:\", mean(y_hat_train .== train_y))\n",
    "println(\"Test accuracy:\",  mean(y_hat_test  .== test_y))\n",
    "println(\"\\n\")"
   ]
  },
  {
   "cell_type": "markdown",
   "metadata": {},
   "source": [
    "## Machine with `MulticlassPerceptronClassifier`\n",
    "\n"
   ]
  },
  {
   "cell_type": "code",
   "execution_count": 12,
   "metadata": {
    "ExecuteTime": {
     "end_time": "2020-12-20T19:47:28.419000+01:00",
     "start_time": "2020-12-20T18:46:41.769Z"
    }
   },
   "outputs": [],
   "source": [
    "using MLJ"
   ]
  },
  {
   "cell_type": "code",
   "execution_count": 13,
   "metadata": {
    "ExecuteTime": {
     "end_time": "2020-12-20T19:47:28.633000+01:00",
     "start_time": "2020-12-20T18:46:41.770Z"
    }
   },
   "outputs": [
    {
     "data": {
      "text/plain": [
       "(784, 60000)"
      ]
     },
     "execution_count": 13,
     "metadata": {},
     "output_type": "execute_result"
    }
   ],
   "source": [
    "size(train_x)"
   ]
  },
  {
   "cell_type": "code",
   "execution_count": 14,
   "metadata": {
    "ExecuteTime": {
     "end_time": "2020-12-20T19:47:29.563000+01:00",
     "start_time": "2020-12-20T18:46:41.771Z"
    }
   },
   "outputs": [
    {
     "data": {
      "text/plain": [
       "Tables.MatrixTable{LinearAlgebra.Adjoint{Float32,Array{Float32,2}}}([:x1, :x2, :x3, :x4, :x5, :x6, :x7, :x8, :x9, :x10  …  :x775, :x776, :x777, :x778, :x779, :x780, :x781, :x782, :x783, :x784], Dict(:x753 => 753,:x620 => 620,:x233 => 233,:x71 => 71,:x110 => 110,:x685 => 685,:x348 => 348,:x630 => 630,:x539 => 539,:x608 => 608…), Float32[0.0 0.0 … 0.0 0.0; 0.0 0.0 … 0.0 0.0; … ; 0.0 0.0 … 0.0 0.0; 0.0 0.0 … 0.0 0.0])"
      ]
     },
     "execution_count": 14,
     "metadata": {},
     "output_type": "execute_result"
    }
   ],
   "source": [
    "train_x_rowexamples = MLJ.table(train_x')  \n",
    "train_x_rowexamples"
   ]
  },
  {
   "cell_type": "code",
   "execution_count": 15,
   "metadata": {
    "ExecuteTime": {
     "end_time": "2020-12-20T19:47:29.565000+01:00",
     "start_time": "2020-12-20T18:46:41.772Z"
    }
   },
   "outputs": [
    {
     "data": {
      "text/plain": [
       "MulticlassPerceptronClassifier(\n",
       "    n_epochs = 50,\n",
       "    n_epoch_patience = 5,\n",
       "    f_average_weights = true,\n",
       "    f_shuffle_data = false,\n",
       "    element_type = Float32)\u001b[34m @ 5…97\u001b[39m"
      ]
     },
     "execution_count": 15,
     "metadata": {},
     "output_type": "execute_result"
    }
   ],
   "source": [
    "perceptron = MulticlassPerceptronClassifier(n_epochs=50; f_average_weights=true)"
   ]
  },
  {
   "cell_type": "code",
   "execution_count": 16,
   "metadata": {
    "ExecuteTime": {
     "end_time": "2020-12-20T19:47:31.398000+01:00",
     "start_time": "2020-12-20T18:46:41.773Z"
    }
   },
   "outputs": [
    {
     "data": {
      "text/plain": [
       "\u001b[34mMachine{MulticlassPerceptronClassifier} @ 6…72\u001b[39m\n"
      ]
     },
     "execution_count": 16,
     "metadata": {},
     "output_type": "execute_result"
    }
   ],
   "source": [
    "# machines expert Tables.Table or DataFrame objects, not AbstractArrays\n",
    "perceptron_machine = machine(perceptron, train_x_rowexamples, train_y)  "
   ]
  },
  {
   "cell_type": "code",
   "execution_count": 17,
   "metadata": {
    "ExecuteTime": {
     "end_time": "2020-12-20T19:47:40.290000+01:00",
     "start_time": "2020-12-20T18:46:41.774Z"
    }
   },
   "outputs": [
    {
     "name": "stdout",
     "output_type": "stream",
     "text": [
      "\n",
      "Start Learning\n",
      "\n"
     ]
    },
    {
     "name": "stderr",
     "output_type": "stream",
     "text": [
      "┌ Info: Training \u001b[34mMachine{MulticlassPerceptronClassifier} @ 6…72\u001b[39m.\n",
      "└ @ MLJBase /Users/davidbuchaca1/.julia/packages/MLJBase/FFnHt/src/machines.jl:164\n"
     ]
    },
    {
     "name": "stdout",
     "output_type": "stream",
     "text": [
      "\n",
      "Learning took 8.891 seconds\n",
      "\n"
     ]
    }
   ],
   "source": [
    "## Train the model\n",
    "println(\"\\nStart Learning\\n\")\n",
    "time_init = time()\n",
    "#fitresult, _ , _  = MLJBase.fit(perceptron, 1, train_x, train_y) # If train_y is a CategoricalArray\n",
    "fit!(perceptron_machine)\n",
    "time_taken = round(time()-time_init; digits=3)\n",
    "println(\"\\nLearning took $time_taken seconds\\n\")"
   ]
  },
  {
   "cell_type": "code",
   "execution_count": 18,
   "metadata": {
    "ExecuteTime": {
     "end_time": "2020-12-20T19:47:40.423000+01:00",
     "start_time": "2020-12-20T18:46:41.775Z"
    },
    "scrolled": true
   },
   "outputs": [
    {
     "name": "stdout",
     "output_type": "stream",
     "text": [
      "Results:\n",
      "Train accuracy:0.9356666666666666\n",
      "Test accuracy:0.9267\n",
      "\n",
      "\n"
     ]
    }
   ],
   "source": [
    "## Make predictions\n",
    "y_hat_train = predict(perceptron_machine, train_x)\n",
    "y_hat_test  = predict(perceptron_machine, test_x);\n",
    "\n",
    "## Evaluate the model\n",
    "println(\"Results:\")\n",
    "println(\"Train accuracy:\", mean(y_hat_train .== train_y))\n",
    "println(\"Test accuracy:\",  mean(y_hat_test  .== test_y))\n",
    "println(\"\\n\")"
   ]
  },
  {
   "cell_type": "markdown",
   "metadata": {},
   "source": [
    "## EnsembleModel\n",
    "\n",
    "MLJ offers basic support for ensembling techniques such as bagging. \n",
    "\n",
    "For the MulticlassPerceptorn as is, it does not make a lot of sense to do bagging, but for other estimators it is a pretty interesting technique.\n",
    "\n",
    "In order to define an Ensemble we need an \"atomic\" model."
   ]
  },
  {
   "cell_type": "code",
   "execution_count": 19,
   "metadata": {
    "ExecuteTime": {
     "end_time": "2020-12-20T19:47:40.424000+01:00",
     "start_time": "2020-12-20T18:46:41.776Z"
    }
   },
   "outputs": [],
   "source": [
    "using MLJ"
   ]
  },
  {
   "cell_type": "code",
   "execution_count": 20,
   "metadata": {
    "ExecuteTime": {
     "end_time": "2020-12-20T19:47:40.425000+01:00",
     "start_time": "2020-12-20T18:46:41.777Z"
    }
   },
   "outputs": [],
   "source": [
    "using Tables"
   ]
  },
  {
   "cell_type": "code",
   "execution_count": 21,
   "metadata": {
    "ExecuteTime": {
     "end_time": "2020-12-20T19:47:40.804000+01:00",
     "start_time": "2020-12-20T18:46:41.778Z"
    }
   },
   "outputs": [
    {
     "data": {
      "text/plain": [
       "Tables.MatrixTable{Array{Float32,2}}([:Column1, :Column2, :Column3, :Column4, :Column5, :Column6, :Column7, :Column8, :Column9, :Column10  …  :Column775, :Column776, :Column777, :Column778, :Column779, :Column780, :Column781, :Column782, :Column783, :Column784], Dict(:Column42 => 42,:Column285 => 285,:Column714 => 714,:Column630 => 630,:Column167 => 167,:Column607 => 607,:Column693 => 693,:Column499 => 499,:Column52 => 52,:Column647 => 647…), Float32[0.0 0.0 … 0.0 0.0; 0.0 0.0 … 0.0 0.0; … ; 0.0 0.0 … 0.0 0.0; 0.0 0.0 … 0.0 0.0])"
      ]
     },
     "execution_count": 21,
     "metadata": {},
     "output_type": "execute_result"
    }
   ],
   "source": [
    "train_x_table = Tables.table(copy(train_x'))"
   ]
  },
  {
   "cell_type": "code",
   "execution_count": 22,
   "metadata": {
    "ExecuteTime": {
     "end_time": "2020-12-20T19:47:41.074000+01:00",
     "start_time": "2020-12-20T18:46:41.779Z"
    }
   },
   "outputs": [
    {
     "data": {
      "text/plain": [
       "AbstractArray{var\"#s27\",1} where var\"#s27\"<:Finite"
      ]
     },
     "execution_count": 22,
     "metadata": {},
     "output_type": "execute_result"
    }
   ],
   "source": [
    "target_scitype(MulticlassPerceptronClassifier)"
   ]
  },
  {
   "cell_type": "code",
   "execution_count": 23,
   "metadata": {
    "ExecuteTime": {
     "end_time": "2020-12-20T19:47:41.086000+01:00",
     "start_time": "2020-12-20T18:46:41.780Z"
    }
   },
   "outputs": [
    {
     "data": {
      "text/plain": [
       "MulticlassPerceptronClassifier(\n",
       "    n_epochs = 100,\n",
       "    n_epoch_patience = 5,\n",
       "    f_average_weights = true,\n",
       "    f_shuffle_data = false,\n",
       "    element_type = Float32)\u001b[34m @ 1…84\u001b[39m"
      ]
     },
     "execution_count": 23,
     "metadata": {},
     "output_type": "execute_result"
    }
   ],
   "source": [
    "model        = MulticlassPerceptronClassifier()"
   ]
  },
  {
   "cell_type": "code",
   "execution_count": 24,
   "metadata": {
    "ExecuteTime": {
     "end_time": "2020-12-20T19:47:41.741000+01:00",
     "start_time": "2020-12-20T18:46:41.781Z"
    }
   },
   "outputs": [
    {
     "data": {
      "text/plain": [
       "DeterministicEnsembleModel(\n",
       "    atom = MulticlassPerceptronClassifier(\n",
       "            n_epochs = 100,\n",
       "            n_epoch_patience = 5,\n",
       "            f_average_weights = true,\n",
       "            f_shuffle_data = false,\n",
       "            element_type = Float32),\n",
       "    atomic_weights = Float64[],\n",
       "    bagging_fraction = 0.8,\n",
       "    rng = Random._GLOBAL_RNG(),\n",
       "    n = 5,\n",
       "    acceleration = ComputationalResources.CPU1{Nothing}(nothing),\n",
       "    out_of_bag_measure = Any[])\u001b[34m @ 1…69\u001b[39m"
      ]
     },
     "execution_count": 24,
     "metadata": {},
     "output_type": "execute_result"
    }
   ],
   "source": [
    "ensemble_model   = EnsembleModel(atom=model, n=5)"
   ]
  },
  {
   "cell_type": "code",
   "execution_count": 25,
   "metadata": {
    "ExecuteTime": {
     "end_time": "2020-12-20T19:47:42.258000+01:00",
     "start_time": "2020-12-20T18:46:41.782Z"
    }
   },
   "outputs": [
    {
     "name": "stdout",
     "output_type": "stream",
     "text": [
      "  0.182134 seconds (330.24 k allocations: 196.131 MiB)\n"
     ]
    },
    {
     "data": {
      "text/plain": [
       "\u001b[34mMachine{DeterministicEnsembleModel{MulticlassPerceptronClassifier}} @ 1…10\u001b[39m\n"
      ]
     },
     "execution_count": 25,
     "metadata": {},
     "output_type": "execute_result"
    }
   ],
   "source": [
    "@time ensemble_machine = machine(ensemble_model, train_x_table, train_y)"
   ]
  },
  {
   "cell_type": "code",
   "execution_count": 26,
   "metadata": {
    "ExecuteTime": {
     "end_time": "2020-12-20T19:48:44.268000+01:00",
     "start_time": "2020-12-20T18:46:41.782Z"
    }
   },
   "outputs": [
    {
     "name": "stderr",
     "output_type": "stream",
     "text": [
      "┌ Info: Training \u001b[34mMachine{DeterministicEnsembleModel{MulticlassPerceptronClassifier}} @ 1…10\u001b[39m.\n",
      "└ @ MLJBase /Users/davidbuchaca1/.julia/packages/MLJBase/FFnHt/src/machines.jl:164\n",
      "\u001b[33mTraining ensemble: 100%[==================================================] Time: 0:00:49\u001b[39m\n"
     ]
    },
    {
     "name": "stdout",
     "output_type": "stream",
     "text": [
      "\n",
      " 62.002520 seconds (156.46 M allocations: 38.226 GiB, 11.83% gc time)\n"
     ]
    },
    {
     "data": {
      "text/plain": [
       "\u001b[34mMachine{DeterministicEnsembleModel{MulticlassPerceptronClassifier}} @ 1…10\u001b[39m\n"
      ]
     },
     "execution_count": 26,
     "metadata": {},
     "output_type": "execute_result"
    }
   ],
   "source": [
    "@time fit!(ensemble_machine)"
   ]
  },
  {
   "cell_type": "code",
   "execution_count": 27,
   "metadata": {
    "ExecuteTime": {
     "end_time": "2020-12-20T19:48:47.047000+01:00",
     "start_time": "2020-12-20T18:46:41.783Z"
    }
   },
   "outputs": [
    {
     "name": "stdout",
     "output_type": "stream",
     "text": [
      "accuracy:  0.9395166666666667"
     ]
    }
   ],
   "source": [
    "y_hat = predict(ensemble_machine,train_x_table);\n",
    "print(\"accuracy:  $(mean(y_hat .== y))\")"
   ]
  },
  {
   "cell_type": "code",
   "execution_count": 28,
   "metadata": {
    "ExecuteTime": {
     "end_time": "2020-12-20T19:48:47.437000+01:00",
     "start_time": "2020-12-20T18:46:41.784Z"
    }
   },
   "outputs": [
    {
     "name": "stdout",
     "output_type": "stream",
     "text": [
      "accuracy:  0.9257"
     ]
    }
   ],
   "source": [
    "test_x_table = Tables.table(copy(test_x'))\n",
    "y_hat_test   = predict(ensemble_machine, test_x_table);\n",
    "print(\"accuracy:  $(mean(y_hat_test .== test_y))\")"
   ]
  },
  {
   "cell_type": "markdown",
   "metadata": {},
   "source": [
    "Notice that an ensemble with bagging is simply a bunch of models which are used to make the final prediction (by simply averaging the predictions of the different models)"
   ]
  },
  {
   "cell_type": "code",
   "execution_count": 29,
   "metadata": {
    "ExecuteTime": {
     "end_time": "2020-12-20T19:48:48.523000+01:00",
     "start_time": "2020-12-20T18:46:41.785Z"
    }
   },
   "outputs": [
    {
     "data": {
      "text/plain": [
       "2-element Array{Tuple{MulticlassPerceptronCore{Float32},MLJBase.CategoricalDecoder{Int64,UInt32}},1}:\n",
       " (MulticlassPerceptronCore{Float32}(Float32[0.64297223 0.008398652 … 0.6292795 0.15694559; 0.052143455 0.6262623 … 0.9221982 0.85320485; … ; 0.06592238 0.9153894 … 0.26662958 0.32635856; 0.9947995 0.8695295 … 0.9973707 0.5885484], Float32[-79.71893, 45.91424, 21.676311, -22.243063, 13.311617, 91.76496, -31.114058, 58.082783, -87.00599, -10.667681], 10, 784, false), MLJBase.CategoricalDecoder{Int64,UInt32}(CategoricalPool{Int64,UInt32}([1,2,3,4,5,6,7,8,9,10]), [2, 4, 6, 7, 3, 1, 8, 9, 10, 5]))\n",
       " (MulticlassPerceptronCore{Float32}(Float32[0.123441815 0.4488144 … 0.7582301 0.9748217; 0.8331721 0.5930548 … 0.15318418 0.38802278; … ; 0.48523808 0.53570056 … 0.71892035 0.8819529; 0.86679924 0.1892097 … 0.6188264 0.02111578], Float32[-63.770912, 32.701706, 14.63555, -15.967604, 6.7843504, 102.18117, -30.627605, 52.21907, -77.3212, -20.834476], 10, 784, false), MLJBase.CategoricalDecoder{Int64,UInt32}(CategoricalPool{Int64,UInt32}([1,2,3,4,5,6,7,8,9,10]), [2, 4, 6, 7, 3, 1, 8, 9, 10, 5]))"
      ]
     },
     "execution_count": 29,
     "metadata": {},
     "output_type": "execute_result"
    }
   ],
   "source": [
    "ensemble_machine.fitresult.ensemble[1:2]"
   ]
  },
  {
   "cell_type": "markdown",
   "metadata": {},
   "source": [
    "We can see that bagging does not improve a lot the results for the MulticlassPerceptron"
   ]
  },
  {
   "cell_type": "code",
   "execution_count": 30,
   "metadata": {
    "ExecuteTime": {
     "end_time": "2020-12-20T19:48:55.506000+01:00",
     "start_time": "2020-12-20T18:46:41.786Z"
    }
   },
   "outputs": [
    {
     "data": {
      "text/plain": [
       "0.9268"
      ]
     },
     "execution_count": 30,
     "metadata": {},
     "output_type": "execute_result"
    }
   ],
   "source": [
    "p = MulticlassPerceptronClassifier(n_epochs=50; f_average_weights=true)\n",
    "fitresult, _ , _  = fit(p, 1, train_x, train_y);\n",
    "y_test_preds = predict(fitresult, test_x);\n",
    "mean(y_test_preds .== test_y)"
   ]
  },
  {
   "cell_type": "code",
   "execution_count": null,
   "metadata": {},
   "outputs": [],
   "source": []
  },
  {
   "cell_type": "code",
   "execution_count": null,
   "metadata": {},
   "outputs": [],
   "source": []
  }
 ],
 "metadata": {
  "kernelspec": {
   "display_name": "Julia 1.5.3",
   "language": "julia",
   "name": "julia-1.5"
  },
  "language_info": {
   "file_extension": ".jl",
   "mimetype": "application/julia",
   "name": "julia",
   "version": "1.5.3"
  },
  "toc": {
   "base_numbering": 1,
   "nav_menu": {},
   "number_sections": true,
   "sideBar": true,
   "skip_h1_title": false,
   "title_cell": "Table of Contents",
   "title_sidebar": "Contents",
   "toc_cell": false,
   "toc_position": {},
   "toc_section_display": true,
   "toc_window_display": false
  },
  "varInspector": {
   "cols": {
    "lenName": 16,
    "lenType": 16,
    "lenVar": 40
   },
   "kernels_config": {
    "python": {
     "delete_cmd_postfix": "",
     "delete_cmd_prefix": "del ",
     "library": "var_list.py",
     "varRefreshCmd": "print(var_dic_list())"
    },
    "r": {
     "delete_cmd_postfix": ") ",
     "delete_cmd_prefix": "rm(",
     "library": "var_list.r",
     "varRefreshCmd": "cat(var_dic_list()) "
    }
   },
   "types_to_exclude": [
    "module",
    "function",
    "builtin_function_or_method",
    "instance",
    "_Feature"
   ],
   "window_display": false
  }
 },
 "nbformat": 4,
 "nbformat_minor": 2
}
